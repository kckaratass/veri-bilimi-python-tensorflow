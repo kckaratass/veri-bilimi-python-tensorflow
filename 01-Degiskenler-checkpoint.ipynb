{
 "cells": [
  {
   "cell_type": "code",
   "execution_count": 1,
   "id": "58f04f07-6f77-4da0-8db7-41893f065850",
   "metadata": {},
   "outputs": [
    {
     "data": {
      "text/plain": [
       "20"
      ]
     },
     "execution_count": 1,
     "metadata": {},
     "output_type": "execute_result"
    }
   ],
   "source": [
    "5 * 4"
   ]
  },
  {
   "cell_type": "code",
   "execution_count": 2,
   "id": "2dd1f25d-fcbd-40d6-bc63-67aabac74372",
   "metadata": {},
   "outputs": [
    {
     "data": {
      "text/plain": [
       "3500"
      ]
     },
     "execution_count": 2,
     "metadata": {},
     "output_type": "execute_result"
    }
   ],
   "source": [
    "1000 + 2500"
   ]
  },
  {
   "cell_type": "markdown",
   "id": "df793c4f-3064-4148-96bd-d8b44564bf4b",
   "metadata": {},
   "source": [
    "## Variables (Değişkenler)"
   ]
  },
  {
   "cell_type": "code",
   "execution_count": 3,
   "id": "6a37acca-6ed8-4f4d-9b34-b75a59589d67",
   "metadata": {},
   "outputs": [],
   "source": [
    "x = 5"
   ]
  },
  {
   "cell_type": "code",
   "execution_count": 4,
   "id": "689ca690-256b-417e-93d2-68c9846fa24e",
   "metadata": {},
   "outputs": [],
   "source": [
    "y = 4"
   ]
  },
  {
   "cell_type": "code",
   "execution_count": 5,
   "id": "fdd2a658-1be7-4cc4-8d9d-4d46d5c359e4",
   "metadata": {},
   "outputs": [
    {
     "data": {
      "text/plain": [
       "20"
      ]
     },
     "execution_count": 5,
     "metadata": {},
     "output_type": "execute_result"
    }
   ],
   "source": [
    "x * y"
   ]
  },
  {
   "cell_type": "code",
   "execution_count": 10,
   "id": "e2540b32-5da1-4af9-b9b8-98cf6c66bce5",
   "metadata": {},
   "outputs": [
    {
     "data": {
      "text/plain": [
       "5"
      ]
     },
     "execution_count": 10,
     "metadata": {},
     "output_type": "execute_result"
    }
   ],
   "source": [
    "x"
   ]
  },
  {
   "cell_type": "code",
   "execution_count": 11,
   "id": "26c84c08-400a-49bf-98d8-a8ddcb4e1619",
   "metadata": {},
   "outputs": [],
   "source": [
    "x = 6"
   ]
  },
  {
   "cell_type": "code",
   "execution_count": 12,
   "id": "dc44f58e-2863-415a-a189-2908617057a2",
   "metadata": {},
   "outputs": [
    {
     "data": {
      "text/plain": [
       "24"
      ]
     },
     "execution_count": 12,
     "metadata": {},
     "output_type": "execute_result"
    }
   ],
   "source": [
    "x * y"
   ]
  },
  {
   "cell_type": "code",
   "execution_count": 13,
   "id": "af264e99-4efb-4a9c-b25f-b53c87fb7e59",
   "metadata": {},
   "outputs": [
    {
     "data": {
      "text/plain": [
       "40"
      ]
     },
     "execution_count": 13,
     "metadata": {},
     "output_type": "execute_result"
    }
   ],
   "source": [
    "y * 10"
   ]
  },
  {
   "cell_type": "markdown",
   "id": "deb04a75-b785-462c-a12f-3ce978cc68a5",
   "metadata": {},
   "source": [
    "## Integer & Float"
   ]
  },
  {
   "cell_type": "code",
   "execution_count": 14,
   "id": "437b70ea-a73f-4f1b-977b-dd63a4832bb8",
   "metadata": {},
   "outputs": [],
   "source": [
    "benimDegiskenim = 10\n",
    "benimDigerDegiskenim = 20"
   ]
  },
  {
   "cell_type": "code",
   "execution_count": 15,
   "id": "4da923ce-f505-4c0d-a667-a1271f16161c",
   "metadata": {},
   "outputs": [
    {
     "data": {
      "text/plain": [
       "30"
      ]
     },
     "execution_count": 15,
     "metadata": {},
     "output_type": "execute_result"
    }
   ],
   "source": [
    "benimDegiskenim + benimDigerDegiskenim "
   ]
  },
  {
   "cell_type": "code",
   "execution_count": 16,
   "id": "839f7f83-fede-47bb-a93c-17e2ce81ad6e",
   "metadata": {},
   "outputs": [
    {
     "data": {
      "text/plain": [
       "int"
      ]
     },
     "execution_count": 16,
     "metadata": {},
     "output_type": "execute_result"
    }
   ],
   "source": [
    "type(benimDegiskenim)"
   ]
  },
  {
   "cell_type": "code",
   "execution_count": 18,
   "id": "8072a0dd-5c8b-4b31-9bb4-e429d44156af",
   "metadata": {},
   "outputs": [],
   "source": [
    "sonuc = benimDigerDegiskenim / benimDegiskenim"
   ]
  },
  {
   "cell_type": "code",
   "execution_count": 19,
   "id": "ad02d7a8-5aca-473f-bc1a-d108036ab75f",
   "metadata": {},
   "outputs": [
    {
     "data": {
      "text/plain": [
       "float"
      ]
     },
     "execution_count": 19,
     "metadata": {},
     "output_type": "execute_result"
    }
   ],
   "source": [
    "type(sonuc)"
   ]
  },
  {
   "cell_type": "code",
   "execution_count": 20,
   "id": "035246fe-c98c-49ab-8e40-3243175799d5",
   "metadata": {},
   "outputs": [],
   "source": [
    "a = 3\n",
    "b = 2"
   ]
  },
  {
   "cell_type": "code",
   "execution_count": 21,
   "id": "ecc812a9-f42c-4248-a3c6-57f124ac3ee4",
   "metadata": {},
   "outputs": [
    {
     "data": {
      "text/plain": [
       "1.5"
      ]
     },
     "execution_count": 21,
     "metadata": {},
     "output_type": "execute_result"
    }
   ],
   "source": [
    "a / b"
   ]
  },
  {
   "cell_type": "code",
   "execution_count": 22,
   "id": "2f0a7240-20c4-4c53-8205-9dfb24cf439e",
   "metadata": {},
   "outputs": [],
   "source": [
    "pi = 3.14"
   ]
  },
  {
   "cell_type": "code",
   "execution_count": 23,
   "id": "fe4eddf5-6985-4e08-aaed-8187ae8185cd",
   "metadata": {},
   "outputs": [
    {
     "data": {
      "text/plain": [
       "float"
      ]
     },
     "execution_count": 23,
     "metadata": {},
     "output_type": "execute_result"
    }
   ],
   "source": [
    "type(pi)"
   ]
  },
  {
   "cell_type": "code",
   "execution_count": 24,
   "id": "dbe2bfb9-7d18-4e48-9ed5-edd6c41d35e8",
   "metadata": {},
   "outputs": [],
   "source": [
    "a = 5"
   ]
  },
  {
   "cell_type": "code",
   "execution_count": 25,
   "id": "327f3758-f832-4f33-9d38-3656b11e6734",
   "metadata": {},
   "outputs": [
    {
     "data": {
      "text/plain": [
       "int"
      ]
     },
     "execution_count": 25,
     "metadata": {},
     "output_type": "execute_result"
    }
   ],
   "source": [
    "type(a)"
   ]
  },
  {
   "cell_type": "code",
   "execution_count": 26,
   "id": "03a215a7-957b-4aea-8a6d-f81ff6ca4610",
   "metadata": {},
   "outputs": [
    {
     "data": {
      "text/plain": [
       "8.14"
      ]
     },
     "execution_count": 26,
     "metadata": {},
     "output_type": "execute_result"
    }
   ],
   "source": [
    "a + pi"
   ]
  },
  {
   "cell_type": "code",
   "execution_count": 27,
   "id": "66c1bb3c-72be-4a20-b2a7-398145e65dad",
   "metadata": {},
   "outputs": [
    {
     "data": {
      "text/plain": [
       "15.700000000000001"
      ]
     },
     "execution_count": 27,
     "metadata": {},
     "output_type": "execute_result"
    }
   ],
   "source": [
    "a * pi"
   ]
  },
  {
   "cell_type": "code",
   "execution_count": 28,
   "id": "b70ba4d0-d391-4717-9770-baa951635fd6",
   "metadata": {},
   "outputs": [
    {
     "data": {
      "text/plain": [
       "1.592356687898089"
      ]
     },
     "execution_count": 28,
     "metadata": {},
     "output_type": "execute_result"
    }
   ],
   "source": [
    "a / pi"
   ]
  },
  {
   "cell_type": "code",
   "execution_count": 29,
   "id": "839f81d1-aeb8-48f6-b7b7-e1506b356817",
   "metadata": {},
   "outputs": [],
   "source": [
    "a = 5\n",
    "b = 4"
   ]
  },
  {
   "cell_type": "code",
   "execution_count": 30,
   "id": "8ca4e0d3-bf06-4de1-9487-22c5df280108",
   "metadata": {},
   "outputs": [],
   "source": [
    "sonuc = a + b"
   ]
  },
  {
   "cell_type": "code",
   "execution_count": 31,
   "id": "8993d66d-899a-4153-bf51-16ac93e360d8",
   "metadata": {},
   "outputs": [
    {
     "data": {
      "text/plain": [
       "int"
      ]
     },
     "execution_count": 31,
     "metadata": {},
     "output_type": "execute_result"
    }
   ],
   "source": [
    "type(sonuc)"
   ]
  },
  {
   "cell_type": "code",
   "execution_count": 32,
   "id": "2176be1d-bc32-4dad-8099-86aaed761ec2",
   "metadata": {},
   "outputs": [],
   "source": [
    "sonuc = a * b"
   ]
  },
  {
   "cell_type": "code",
   "execution_count": 33,
   "id": "25a9c361-f9ab-4438-b008-b7047aa3899f",
   "metadata": {},
   "outputs": [
    {
     "data": {
      "text/plain": [
       "int"
      ]
     },
     "execution_count": 33,
     "metadata": {},
     "output_type": "execute_result"
    }
   ],
   "source": [
    "type(sonuc)"
   ]
  },
  {
   "cell_type": "markdown",
   "id": "c26bafb0-03ba-411a-a802-54a57b3f902a",
   "metadata": {},
   "source": [
    "## Matematiksel İşlemler"
   ]
  },
  {
   "cell_type": "code",
   "execution_count": 34,
   "id": "99c26cfc-2b4f-4c94-bae3-f819a06a4353",
   "metadata": {},
   "outputs": [],
   "source": [
    "x = 5\n",
    "y = 3"
   ]
  },
  {
   "cell_type": "code",
   "execution_count": 35,
   "id": "793bd172-8b88-4038-bbe2-6444f065f92f",
   "metadata": {},
   "outputs": [
    {
     "data": {
      "text/plain": [
       "150"
      ]
     },
     "execution_count": 35,
     "metadata": {},
     "output_type": "execute_result"
    }
   ],
   "source": [
    "x * y * 10"
   ]
  },
  {
   "cell_type": "code",
   "execution_count": 37,
   "id": "c9968928-3971-431d-a3ec-6ec53d1308bc",
   "metadata": {},
   "outputs": [
    {
     "data": {
      "text/plain": [
       "625"
      ]
     },
     "execution_count": 37,
     "metadata": {},
     "output_type": "execute_result"
    }
   ],
   "source": [
    "x * x * x * x "
   ]
  },
  {
   "cell_type": "code",
   "execution_count": 38,
   "id": "f37c82fa-a895-4b40-8819-a50b7fd52396",
   "metadata": {},
   "outputs": [
    {
     "data": {
      "text/plain": [
       "625"
      ]
     },
     "execution_count": 38,
     "metadata": {},
     "output_type": "execute_result"
    }
   ],
   "source": [
    "x ** 4"
   ]
  },
  {
   "cell_type": "code",
   "execution_count": 39,
   "id": "5e1e0672-c3ce-4faf-abf1-f28e6da6aba9",
   "metadata": {},
   "outputs": [
    {
     "data": {
      "text/plain": [
       "0"
      ]
     },
     "execution_count": 39,
     "metadata": {},
     "output_type": "execute_result"
    }
   ],
   "source": [
    "# Remainder - Kalanı Bulmak\n",
    "10 % 2"
   ]
  },
  {
   "cell_type": "code",
   "execution_count": 40,
   "id": "4f77a6b4-43b7-467c-9c7c-96a40f1f0b83",
   "metadata": {},
   "outputs": [
    {
     "data": {
      "text/plain": [
       "1"
      ]
     },
     "execution_count": 40,
     "metadata": {},
     "output_type": "execute_result"
    }
   ],
   "source": [
    "11 % 2"
   ]
  },
  {
   "cell_type": "code",
   "execution_count": 41,
   "id": "9f5a6cb9-6e6e-4f91-81b5-1f95f7c7781d",
   "metadata": {},
   "outputs": [
    {
     "data": {
      "text/plain": [
       "2"
      ]
     },
     "execution_count": 41,
     "metadata": {},
     "output_type": "execute_result"
    }
   ],
   "source": [
    "11 % 3"
   ]
  },
  {
   "cell_type": "code",
   "execution_count": 42,
   "id": "dbb1a1af-0bdb-4b9d-a7bc-9c66d282fbaa",
   "metadata": {},
   "outputs": [],
   "source": [
    "kullanicininYasi = 10"
   ]
  },
  {
   "cell_type": "code",
   "execution_count": 43,
   "id": "45cd52e5-f05b-40e0-9a4e-1bba49f6aa7e",
   "metadata": {},
   "outputs": [],
   "source": [
    "## camelCase snake_Case"
   ]
  },
  {
   "cell_type": "code",
   "execution_count": 44,
   "id": "63196374-3d47-482f-9bb5-29786711da4f",
   "metadata": {},
   "outputs": [
    {
     "data": {
      "text/plain": [
       "16.666666666666668"
      ]
     },
     "execution_count": 44,
     "metadata": {},
     "output_type": "execute_result"
    }
   ],
   "source": [
    "kullanicininYasi * 5 / 3"
   ]
  },
  {
   "cell_type": "code",
   "execution_count": 47,
   "id": "cf983a04-5f02-40bf-8348-48b530c05538",
   "metadata": {},
   "outputs": [
    {
     "name": "stdin",
     "output_type": "stream",
     "text": [
      "Yaşınızı Giriniz:  45\n"
     ]
    }
   ],
   "source": [
    "kullanicininYasi = input(\"Yaşınızı Giriniz: \")"
   ]
  },
  {
   "cell_type": "code",
   "execution_count": 48,
   "id": "e8762367-a85f-414d-8c05-72f6ebb6a03f",
   "metadata": {},
   "outputs": [
    {
     "data": {
      "text/plain": [
       "'45'"
      ]
     },
     "execution_count": 48,
     "metadata": {},
     "output_type": "execute_result"
    }
   ],
   "source": [
    "kullanicininYasi"
   ]
  },
  {
   "cell_type": "code",
   "execution_count": 49,
   "id": "11573449-625c-453a-bab7-a72bebf9134f",
   "metadata": {},
   "outputs": [
    {
     "data": {
      "text/plain": [
       "str"
      ]
     },
     "execution_count": 49,
     "metadata": {},
     "output_type": "execute_result"
    }
   ],
   "source": [
    "type(kullanicininYasi)"
   ]
  },
  {
   "cell_type": "code",
   "execution_count": 50,
   "id": "bc81eaee-d5b0-4b24-b14e-e941aaa66d94",
   "metadata": {},
   "outputs": [
    {
     "data": {
      "text/plain": [
       "'4545454545'"
      ]
     },
     "execution_count": 50,
     "metadata": {},
     "output_type": "execute_result"
    }
   ],
   "source": [
    "kullanicininYasi * 5"
   ]
  },
  {
   "cell_type": "markdown",
   "id": "d33e6f77-c705-4159-bc11-6dafecc8bfd7",
   "metadata": {},
   "source": [
    "## String"
   ]
  },
  {
   "cell_type": "code",
   "execution_count": 51,
   "id": "c1bd596e-7383-4bf3-a069-cf7d5955b013",
   "metadata": {},
   "outputs": [
    {
     "data": {
      "text/plain": [
       "'merhaba dünya'"
      ]
     },
     "execution_count": 51,
     "metadata": {},
     "output_type": "execute_result"
    }
   ],
   "source": [
    "\"merhaba dünya\""
   ]
  },
  {
   "cell_type": "code",
   "execution_count": 52,
   "id": "395e87cb-d2fa-4678-96d8-3f4e7be85ebd",
   "metadata": {},
   "outputs": [],
   "source": [
    "x = \"merhaba dünya\""
   ]
  },
  {
   "cell_type": "code",
   "execution_count": 53,
   "id": "cee0614c-10e3-49c5-8555-e704f2284518",
   "metadata": {},
   "outputs": [],
   "source": [
    "x = 10"
   ]
  },
  {
   "cell_type": "code",
   "execution_count": 54,
   "id": "a82618d6-dacc-49d2-ae03-666e458a8076",
   "metadata": {},
   "outputs": [],
   "source": [
    "x = 20.5"
   ]
  },
  {
   "cell_type": "code",
   "execution_count": 55,
   "id": "1a7605f5-81df-4a72-b917-a91324084b2b",
   "metadata": {},
   "outputs": [],
   "source": [
    "x = \"hello\""
   ]
  },
  {
   "cell_type": "code",
   "execution_count": 56,
   "id": "c949f9a9-a044-4052-b1a6-59883f0cdd98",
   "metadata": {},
   "outputs": [
    {
     "data": {
      "text/plain": [
       "str"
      ]
     },
     "execution_count": 56,
     "metadata": {},
     "output_type": "execute_result"
    }
   ],
   "source": [
    "type(x)"
   ]
  },
  {
   "cell_type": "code",
   "execution_count": 57,
   "id": "aa6f6c4e-fcf1-4c82-8ffe-edad52dd5a95",
   "metadata": {},
   "outputs": [],
   "source": [
    "y = 'yeni string'"
   ]
  },
  {
   "cell_type": "code",
   "execution_count": 58,
   "id": "6c67cb00-842a-4989-964f-cc29da6fcdb6",
   "metadata": {},
   "outputs": [
    {
     "data": {
      "text/plain": [
       "str"
      ]
     },
     "execution_count": 58,
     "metadata": {},
     "output_type": "execute_result"
    }
   ],
   "source": [
    "type(y)"
   ]
  },
  {
   "cell_type": "code",
   "execution_count": 59,
   "id": "8e643c8c-5f6a-49e7-90e0-92e106c2912b",
   "metadata": {},
   "outputs": [
    {
     "data": {
      "text/plain": [
       "\"Kadir'in Yeri\""
      ]
     },
     "execution_count": 59,
     "metadata": {},
     "output_type": "execute_result"
    }
   ],
   "source": [
    "\"Kadir'in Yeri\""
   ]
  },
  {
   "cell_type": "code",
   "execution_count": 60,
   "id": "59c00253-83cb-4de3-9988-c14c333de578",
   "metadata": {},
   "outputs": [],
   "source": [
    "a = 5"
   ]
  },
  {
   "cell_type": "code",
   "execution_count": 61,
   "id": "f823652e-7cb3-472e-a20d-5e37fd84b84f",
   "metadata": {},
   "outputs": [
    {
     "data": {
      "text/plain": [
       "'Yeni string'"
      ]
     },
     "execution_count": 61,
     "metadata": {},
     "output_type": "execute_result"
    }
   ],
   "source": [
    "y.capitalize()"
   ]
  },
  {
   "cell_type": "code",
   "execution_count": 62,
   "id": "8ae42664-c84a-4eb4-a9ec-8f25a47aba1b",
   "metadata": {},
   "outputs": [
    {
     "data": {
      "text/plain": [
       "['yeni', 'string']"
      ]
     },
     "execution_count": 62,
     "metadata": {},
     "output_type": "execute_result"
    }
   ],
   "source": [
    "y.split()"
   ]
  },
  {
   "cell_type": "code",
   "execution_count": 63,
   "id": "28853a88-dcdf-4de2-82ac-73b7315f41ba",
   "metadata": {},
   "outputs": [],
   "source": [
    "benimString = \"Kadir Can Karataş\""
   ]
  },
  {
   "cell_type": "code",
   "execution_count": 64,
   "id": "24970b2f-d00e-48bf-a3e6-e5203d49ecb2",
   "metadata": {},
   "outputs": [
    {
     "data": {
      "text/plain": [
       "'Kadir Can Karataş yeni string'"
      ]
     },
     "execution_count": 64,
     "metadata": {},
     "output_type": "execute_result"
    }
   ],
   "source": [
    "benimString + \" \" + y"
   ]
  },
  {
   "cell_type": "code",
   "execution_count": 65,
   "id": "1f1ccb81-9423-4d61-9b59-79ab1aba254a",
   "metadata": {},
   "outputs": [
    {
     "data": {
      "text/plain": [
       "'Kadir Can Karataş Kadir Can Karataş Kadir Can Karataş Kadir Can Karataş '"
      ]
     },
     "execution_count": 65,
     "metadata": {},
     "output_type": "execute_result"
    }
   ],
   "source": [
    "(benimString + \" \") * 4"
   ]
  },
  {
   "cell_type": "code",
   "execution_count": 66,
   "id": "5464ec84-bca2-434a-9450-e12f61d24a45",
   "metadata": {},
   "outputs": [
    {
     "name": "stdin",
     "output_type": "stream",
     "text": [
      "Yaşınızı Giriniz :  22\n"
     ]
    }
   ],
   "source": [
    "benimInput = input(\"Yaşınızı Giriniz : \")"
   ]
  },
  {
   "cell_type": "code",
   "execution_count": 67,
   "id": "e7e51619-1133-4c7b-87b1-dedc975748fa",
   "metadata": {},
   "outputs": [
    {
     "data": {
      "text/plain": [
       "str"
      ]
     },
     "execution_count": 67,
     "metadata": {},
     "output_type": "execute_result"
    }
   ],
   "source": [
    "type(benimInput)"
   ]
  },
  {
   "cell_type": "code",
   "execution_count": 68,
   "id": "ac151f7c-9fd6-41e8-95ca-7610bc667abf",
   "metadata": {},
   "outputs": [],
   "source": [
    "benimIntInput = int(benimInput)"
   ]
  },
  {
   "cell_type": "code",
   "execution_count": 69,
   "id": "834ddae5-00a6-48e4-be06-686f37ec7eaf",
   "metadata": {},
   "outputs": [
    {
     "data": {
      "text/plain": [
       "int"
      ]
     },
     "execution_count": 69,
     "metadata": {},
     "output_type": "execute_result"
    }
   ],
   "source": [
    "type(benimIntInput)"
   ]
  },
  {
   "cell_type": "code",
   "execution_count": 71,
   "id": "aea223a7-7daa-47e4-83e4-ea703c4b9758",
   "metadata": {},
   "outputs": [
    {
     "data": {
      "text/plain": [
       "22"
      ]
     },
     "execution_count": 71,
     "metadata": {},
     "output_type": "execute_result"
    }
   ],
   "source": [
    "benimIntInput"
   ]
  },
  {
   "cell_type": "code",
   "execution_count": 72,
   "id": "5db6f702-ab96-46d9-b3ef-9f648c1f05c5",
   "metadata": {},
   "outputs": [],
   "source": [
    "k = \"Karataş\""
   ]
  },
  {
   "cell_type": "code",
   "execution_count": 73,
   "id": "5d28ae45-26cc-4d1e-8fbc-7a60673c485b",
   "metadata": {},
   "outputs": [
    {
     "data": {
      "text/plain": [
       "7"
      ]
     },
     "execution_count": 73,
     "metadata": {},
     "output_type": "execute_result"
    }
   ],
   "source": [
    "len(k)"
   ]
  },
  {
   "cell_type": "code",
   "execution_count": 75,
   "id": "dc2b88a1-b376-45d1-a401-a11c0334c396",
   "metadata": {},
   "outputs": [
    {
     "name": "stdout",
     "output_type": "stream",
     "text": [
      "Hello \n",
      "World\n"
     ]
    }
   ],
   "source": [
    "print(\"Hello \\nWorld\")"
   ]
  },
  {
   "cell_type": "code",
   "execution_count": 76,
   "id": "f6b61b83-a3af-45f3-832d-0c6bf17c8fa1",
   "metadata": {},
   "outputs": [],
   "source": [
    "isimString = \"Kadir Can Karataş\""
   ]
  },
  {
   "cell_type": "code",
   "execution_count": 77,
   "id": "cad34ce6-2894-4849-a526-a7383d754cf2",
   "metadata": {},
   "outputs": [
    {
     "data": {
      "text/plain": [
       "'Kadir Can Karataş'"
      ]
     },
     "execution_count": 77,
     "metadata": {},
     "output_type": "execute_result"
    }
   ],
   "source": [
    "isimString"
   ]
  },
  {
   "cell_type": "markdown",
   "id": "a7dd7369-185a-41c4-851b-7bbaab802f27",
   "metadata": {},
   "source": [
    "## Index"
   ]
  },
  {
   "cell_type": "code",
   "execution_count": 79,
   "id": "e449ebdf-1301-4d97-898d-0055ce693c83",
   "metadata": {},
   "outputs": [
    {
     "data": {
      "text/plain": [
       "'K'"
      ]
     },
     "execution_count": 79,
     "metadata": {},
     "output_type": "execute_result"
    }
   ],
   "source": [
    "isimString[0]"
   ]
  },
  {
   "cell_type": "code",
   "execution_count": 80,
   "id": "2b082474-db4a-409a-afe3-1eeb2c11cfcb",
   "metadata": {},
   "outputs": [
    {
     "data": {
      "text/plain": [
       "'a'"
      ]
     },
     "execution_count": 80,
     "metadata": {},
     "output_type": "execute_result"
    }
   ],
   "source": [
    "isimString[7]"
   ]
  },
  {
   "cell_type": "code",
   "execution_count": 81,
   "id": "756fbead-d2a7-48cd-baef-213f41cf7e59",
   "metadata": {},
   "outputs": [
    {
     "data": {
      "text/plain": [
       "' '"
      ]
     },
     "execution_count": 81,
     "metadata": {},
     "output_type": "execute_result"
    }
   ],
   "source": [
    "isimString[5]"
   ]
  },
  {
   "cell_type": "code",
   "execution_count": 82,
   "id": "2014684b-47ee-4338-8d84-c3b524678578",
   "metadata": {},
   "outputs": [
    {
     "data": {
      "text/plain": [
       "'ş'"
      ]
     },
     "execution_count": 82,
     "metadata": {},
     "output_type": "execute_result"
    }
   ],
   "source": [
    "isimString[16]"
   ]
  },
  {
   "cell_type": "code",
   "execution_count": 83,
   "id": "c699b7c6-bf6a-40f3-8f05-09d358038c81",
   "metadata": {},
   "outputs": [
    {
     "data": {
      "text/plain": [
       "'ş'"
      ]
     },
     "execution_count": 83,
     "metadata": {},
     "output_type": "execute_result"
    }
   ],
   "source": [
    "isimString[-1]"
   ]
  },
  {
   "cell_type": "code",
   "execution_count": 84,
   "id": "c7545b84-29ad-4b02-b230-e3e6ee3b7bcc",
   "metadata": {},
   "outputs": [
    {
     "data": {
      "text/plain": [
       "'Kş'"
      ]
     },
     "execution_count": 84,
     "metadata": {},
     "output_type": "execute_result"
    }
   ],
   "source": [
    "isimString[0] + isimString[-1]"
   ]
  },
  {
   "cell_type": "code",
   "execution_count": 85,
   "id": "83b492d2-fc61-410d-ae3d-b0ea1f136fb6",
   "metadata": {},
   "outputs": [],
   "source": [
    "yeniString = \"0123456789\""
   ]
  },
  {
   "cell_type": "code",
   "execution_count": 86,
   "id": "3c764708-ac4f-48fd-8af5-5ce3ff4a3064",
   "metadata": {},
   "outputs": [
    {
     "data": {
      "text/plain": [
       "'23456789'"
      ]
     },
     "execution_count": 86,
     "metadata": {},
     "output_type": "execute_result"
    }
   ],
   "source": [
    "yeniString[2:]"
   ]
  },
  {
   "cell_type": "code",
   "execution_count": 87,
   "id": "4afff66b-45b5-4872-af35-9c249f23a7f1",
   "metadata": {},
   "outputs": [],
   "source": [
    "harfString = \"abcdeghf\""
   ]
  },
  {
   "cell_type": "code",
   "execution_count": 88,
   "id": "9319f5f9-22ab-4bb2-ae95-7fcb4055f9f6",
   "metadata": {},
   "outputs": [
    {
     "data": {
      "text/plain": [
       "'deghf'"
      ]
     },
     "execution_count": 88,
     "metadata": {},
     "output_type": "execute_result"
    }
   ],
   "source": [
    "harfString[3:]"
   ]
  },
  {
   "cell_type": "markdown",
   "id": "1282c34a-bebf-496f-9d44-3938ade70cae",
   "metadata": {},
   "source": [
    "## Slicing"
   ]
  },
  {
   "cell_type": "code",
   "execution_count": null,
   "id": "8e33a51c-92eb-4ca0-89de-cf5b89dea5ee",
   "metadata": {},
   "outputs": [],
   "source": []
  }
 ],
 "metadata": {
  "kernelspec": {
   "display_name": "Python [conda env:base] *",
   "language": "python",
   "name": "conda-base-py"
  },
  "language_info": {
   "codemirror_mode": {
    "name": "ipython",
    "version": 3
   },
   "file_extension": ".py",
   "mimetype": "text/x-python",
   "name": "python",
   "nbconvert_exporter": "python",
   "pygments_lexer": "ipython3",
   "version": "3.13.5"
  }
 },
 "nbformat": 4,
 "nbformat_minor": 5
}
