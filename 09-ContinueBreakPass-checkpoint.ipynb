{
 "cells": [
  {
   "cell_type": "code",
   "execution_count": 1,
   "id": "461ebce7-6378-40cc-aadd-b8d88d176fd4",
   "metadata": {},
   "outputs": [],
   "source": [
    "benimListem = [5,10,15,20,25,30]"
   ]
  },
  {
   "cell_type": "code",
   "execution_count": 2,
   "id": "1f6b4cb2-27b6-4892-bdfb-74fc71805373",
   "metadata": {},
   "outputs": [
    {
     "name": "stdout",
     "output_type": "stream",
     "text": [
      "1.0\n",
      "2.0\n",
      "3.0\n",
      "4.0\n",
      "5.0\n",
      "6.0\n"
     ]
    }
   ],
   "source": [
    "for numara in benimListem:\n",
    "    print(numara / 5)"
   ]
  },
  {
   "cell_type": "markdown",
   "id": "06814e04-2023-4653-9b4b-96983c32d94a",
   "metadata": {},
   "source": [
    "## Break"
   ]
  },
  {
   "cell_type": "code",
   "execution_count": 3,
   "id": "3e7d7016-d509-4e8a-94eb-4e78cff29a4b",
   "metadata": {},
   "outputs": [],
   "source": [
    "## Break Komutu ==> Bir döngüdeyken (for while) koşullar ne olursa olsun döngüyü anında durdurur.Yani döngü kırılır devam etmez."
   ]
  },
  {
   "cell_type": "code",
   "execution_count": 4,
   "id": "cc391590-99b9-44e4-b3ee-9c5638099942",
   "metadata": {},
   "outputs": [
    {
     "name": "stdout",
     "output_type": "stream",
     "text": [
      "5\n",
      "10\n"
     ]
    }
   ],
   "source": [
    "for numara in benimListem:\n",
    "    if numara == 15:\n",
    "        break\n",
    "    print(numara)"
   ]
  },
  {
   "cell_type": "markdown",
   "id": "82f30b63-ace1-4b2d-a310-efd6f6337ab5",
   "metadata": {},
   "source": [
    "## Continue"
   ]
  },
  {
   "cell_type": "code",
   "execution_count": 5,
   "id": "a425f8d4-1570-4dec-82a8-e695f867e1af",
   "metadata": {},
   "outputs": [],
   "source": [
    "## Continue Komutu ==> Döngü içinde çalıştığında o adımdaki işlemleri atlayıp döngünün bir sonraki turuna geçer.\n",
    "## Yani döngüyü tamamen bitirmez (o işi break yapar), sadece o anki turu pas geçer."
   ]
  },
  {
   "cell_type": "code",
   "execution_count": 6,
   "id": "c64be800-c141-4981-8155-ecda9d15e8e9",
   "metadata": {},
   "outputs": [
    {
     "name": "stdout",
     "output_type": "stream",
     "text": [
      "5\n",
      "10\n",
      "20\n",
      "25\n",
      "30\n"
     ]
    }
   ],
   "source": [
    "for numara in benimListem:\n",
    "    if numara == 15:\n",
    "        continue\n",
    "    print(numara)"
   ]
  },
  {
   "cell_type": "markdown",
   "id": "241c425c-13b3-47df-8012-f1a12845bfa4",
   "metadata": {},
   "source": [
    "## Pass"
   ]
  },
  {
   "cell_type": "code",
   "execution_count": 7,
   "id": "2a089e5f-aae0-45bd-8722-59e2113eef9a",
   "metadata": {},
   "outputs": [],
   "source": [
    "## Pass Komutu ==> Python'da bir şey yapma boş geç demektir. Kod yazarken bazen bir yapıyı örneğin ( if, for, while, def)\n",
    "## oluşturursun ama içine henüz kod eklemek istemezsin. İşte o zaman pass koyarsın, böylece hata almazsın."
   ]
  },
  {
   "cell_type": "code",
   "execution_count": 8,
   "id": "6cab01a5-a02c-49a6-8b96-94578430ff82",
   "metadata": {},
   "outputs": [],
   "source": [
    "for numara in benimListem:\n",
    "    pass"
   ]
  },
  {
   "cell_type": "code",
   "execution_count": null,
   "id": "b031edb6-2b77-47d4-9e2f-0ac318962437",
   "metadata": {},
   "outputs": [],
   "source": []
  }
 ],
 "metadata": {
  "kernelspec": {
   "display_name": "Python [conda env:base] *",
   "language": "python",
   "name": "conda-base-py"
  },
  "language_info": {
   "codemirror_mode": {
    "name": "ipython",
    "version": 3
   },
   "file_extension": ".py",
   "mimetype": "text/x-python",
   "name": "python",
   "nbconvert_exporter": "python",
   "pygments_lexer": "ipython3",
   "version": "3.13.5"
  }
 },
 "nbformat": 4,
 "nbformat_minor": 5
}
