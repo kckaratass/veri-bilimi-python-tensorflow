{
 "cells": [
  {
   "cell_type": "code",
   "execution_count": 1,
   "id": "5fcddb66-d2a7-4cbf-b763-b389640921b8",
   "metadata": {},
   "outputs": [],
   "source": [
    "benimListem = [1,2,3]"
   ]
  },
  {
   "cell_type": "code",
   "execution_count": 2,
   "id": "11565fd2-de36-4e90-b81a-b6c09e4962b0",
   "metadata": {},
   "outputs": [
    {
     "data": {
      "text/plain": [
       "1"
      ]
     },
     "execution_count": 2,
     "metadata": {},
     "output_type": "execute_result"
    }
   ],
   "source": [
    "benimListem[0]"
   ]
  },
  {
   "cell_type": "markdown",
   "id": "d2994390-8f11-40f7-a96c-18721908749e",
   "metadata": {},
   "source": [
    "## Key-Value Pairing (Anahtar Kelime - Değer Eşleşmesi)"
   ]
  },
  {
   "cell_type": "code",
   "execution_count": 3,
   "id": "fb4d81b6-baee-4756-a5b8-99251aa8194c",
   "metadata": {},
   "outputs": [],
   "source": [
    "## Anahtar veriye ulaşmak için kullanılan isim, değer ise o ismin tuttuğu bilgi"
   ]
  },
  {
   "cell_type": "code",
   "execution_count": 5,
   "id": "b3b80094-5ee4-4e6e-a8c4-51c97a6cb230",
   "metadata": {},
   "outputs": [],
   "source": [
    "benimYemeklerim = [\"Elma\",\"Karpuz\",\"Muz\"]"
   ]
  },
  {
   "cell_type": "code",
   "execution_count": 6,
   "id": "896bd7e2-490a-414f-92e9-ba2f1ea5042b",
   "metadata": {},
   "outputs": [],
   "source": [
    "benimKalorilerim = [100,200,300]"
   ]
  },
  {
   "cell_type": "code",
   "execution_count": 7,
   "id": "d0ef8a26-8ce3-4959-926e-0d8c296b71dd",
   "metadata": {},
   "outputs": [
    {
     "data": {
      "text/plain": [
       "'Karpuz'"
      ]
     },
     "execution_count": 7,
     "metadata": {},
     "output_type": "execute_result"
    }
   ],
   "source": [
    "benimYemeklerim[1]"
   ]
  },
  {
   "cell_type": "code",
   "execution_count": 8,
   "id": "d07aa699-4fbf-47a2-acc7-91fc94303c60",
   "metadata": {},
   "outputs": [
    {
     "data": {
      "text/plain": [
       "200"
      ]
     },
     "execution_count": 8,
     "metadata": {},
     "output_type": "execute_result"
    }
   ],
   "source": [
    "benimKalorilerim[1]"
   ]
  },
  {
   "cell_type": "code",
   "execution_count": 9,
   "id": "04ff283a-c950-4058-9846-be6867eea93e",
   "metadata": {},
   "outputs": [],
   "source": [
    "## Dictionary ==> Sözlük, verileri Key-Value(Anahtar-Değer) çiftleri halinde saklayan özel bir veri yapısıdır."
   ]
  },
  {
   "cell_type": "code",
   "execution_count": 21,
   "id": "9f5f8ae1-86fc-4252-9c01-df29f41173d9",
   "metadata": {},
   "outputs": [],
   "source": [
    "benimSozluk = {\"anahtarKelime\" : \"deger\"}"
   ]
  },
  {
   "cell_type": "code",
   "execution_count": 22,
   "id": "9d52e1a1-e90b-4e2a-9949-72bcd11d47bd",
   "metadata": {},
   "outputs": [
    {
     "data": {
      "text/plain": [
       "{'anahtarKelime': 'deger'}"
      ]
     },
     "execution_count": 22,
     "metadata": {},
     "output_type": "execute_result"
    }
   ],
   "source": [
    "benimSozluk"
   ]
  },
  {
   "cell_type": "code",
   "execution_count": 23,
   "id": "bd5fbffd-0118-4b2d-871e-3c64cbe377f1",
   "metadata": {},
   "outputs": [
    {
     "data": {
      "text/plain": [
       "dict"
      ]
     },
     "execution_count": 23,
     "metadata": {},
     "output_type": "execute_result"
    }
   ],
   "source": [
    "type(benimSozluk)"
   ]
  },
  {
   "cell_type": "code",
   "execution_count": 25,
   "id": "82b5437f-4293-41d4-8ee6-f46a5efeb607",
   "metadata": {},
   "outputs": [
    {
     "data": {
      "text/plain": [
       "'deger'"
      ]
     },
     "execution_count": 25,
     "metadata": {},
     "output_type": "execute_result"
    }
   ],
   "source": [
    "benimSozluk[\"anahtarKelime\"]"
   ]
  },
  {
   "cell_type": "code",
   "execution_count": 28,
   "id": "930ebede-6e3a-474c-bf52-eb7daab1cb8d",
   "metadata": {},
   "outputs": [],
   "source": [
    "benimYemekKaloriSozlugum = {\"elma\" : 100, \"karpuz\" : 200, \"muz\" : 300}"
   ]
  },
  {
   "cell_type": "code",
   "execution_count": 31,
   "id": "aa879e31-5568-409f-ae30-5cf009e35513",
   "metadata": {},
   "outputs": [
    {
     "data": {
      "text/plain": [
       "300"
      ]
     },
     "execution_count": 31,
     "metadata": {},
     "output_type": "execute_result"
    }
   ],
   "source": [
    "benimYemekKaloriSozlugum[\"muz\"]"
   ]
  },
  {
   "cell_type": "code",
   "execution_count": 32,
   "id": "bc3cfdce-449e-450a-80a5-d92c25111d3d",
   "metadata": {},
   "outputs": [],
   "source": [
    "benimYemekKaloriSozlugum[\"elma\"] = 200"
   ]
  },
  {
   "cell_type": "code",
   "execution_count": 33,
   "id": "4c5ef6bb-5133-4e37-b6cb-f7b22b03fe0b",
   "metadata": {},
   "outputs": [
    {
     "data": {
      "text/plain": [
       "{'elma': 200, 'karpuz': 200, 'muz': 300}"
      ]
     },
     "execution_count": 33,
     "metadata": {},
     "output_type": "execute_result"
    }
   ],
   "source": [
    "benimYemekKaloriSozlugum"
   ]
  },
  {
   "cell_type": "code",
   "execution_count": 35,
   "id": "fc3e0297-96da-422f-b89c-85b078112c54",
   "metadata": {},
   "outputs": [],
   "source": [
    "benimDegisikSozlugum = {64 : \"Kadir\", 10: \"Nidanur\"}"
   ]
  },
  {
   "cell_type": "code",
   "execution_count": 36,
   "id": "ce4dadda-e1ee-4daf-8b4e-6ad27e6db176",
   "metadata": {},
   "outputs": [
    {
     "data": {
      "text/plain": [
       "'Kadir'"
      ]
     },
     "execution_count": 36,
     "metadata": {},
     "output_type": "execute_result"
    }
   ],
   "source": [
    "benimDegisikSozlugum[64]"
   ]
  },
  {
   "cell_type": "code",
   "execution_count": 50,
   "id": "56d9a8af-3be7-4205-8dd2-54fefc83eafa",
   "metadata": {},
   "outputs": [],
   "source": [
    "newDictionary = { \"anahtar1\" : 100 , \"anahtar2\" : [10,20,30,40,4.5,\"kadir\"], \"anahtar3\" : {\"anahtar9\" : 4}}"
   ]
  },
  {
   "cell_type": "code",
   "execution_count": 51,
   "id": "3b07a45b-55c7-4b07-a28f-f9a83c6a5b5f",
   "metadata": {},
   "outputs": [
    {
     "data": {
      "text/plain": [
       "dict_keys(['anahtar1', 'anahtar2', 'anahtar3'])"
      ]
     },
     "execution_count": 51,
     "metadata": {},
     "output_type": "execute_result"
    }
   ],
   "source": [
    "newDictionary.keys()"
   ]
  },
  {
   "cell_type": "code",
   "execution_count": 52,
   "id": "0489688a-d6c7-4a55-b483-fa8ffbdb3b86",
   "metadata": {},
   "outputs": [
    {
     "data": {
      "text/plain": [
       "dict_values([100, [10, 20, 30, 40, 4.5, 'kadir'], {'anahtar9': 4}])"
      ]
     },
     "execution_count": 52,
     "metadata": {},
     "output_type": "execute_result"
    }
   ],
   "source": [
    "newDictionary.values()"
   ]
  },
  {
   "cell_type": "code",
   "execution_count": 53,
   "id": "b56c0320-518a-4e25-9741-fddca749925d",
   "metadata": {},
   "outputs": [
    {
     "data": {
      "text/plain": [
       "'kadir'"
      ]
     },
     "execution_count": 53,
     "metadata": {},
     "output_type": "execute_result"
    }
   ],
   "source": [
    "newDictionary[\"anahtar2\"][5]"
   ]
  },
  {
   "cell_type": "code",
   "execution_count": 56,
   "id": "bcd60c69-f779-43c7-933a-2bf2888b2e60",
   "metadata": {},
   "outputs": [
    {
     "data": {
      "text/plain": [
       "4"
      ]
     },
     "execution_count": 56,
     "metadata": {},
     "output_type": "execute_result"
    }
   ],
   "source": [
    "newDictionary[\"anahtar3\"][\"anahtar9\"]"
   ]
  },
  {
   "cell_type": "code",
   "execution_count": null,
   "id": "9cdbafcb-3888-4227-8665-b10b2d0e8393",
   "metadata": {},
   "outputs": [],
   "source": []
  }
 ],
 "metadata": {
  "kernelspec": {
   "display_name": "Python [conda env:base] *",
   "language": "python",
   "name": "conda-base-py"
  },
  "language_info": {
   "codemirror_mode": {
    "name": "ipython",
    "version": 3
   },
   "file_extension": ".py",
   "mimetype": "text/x-python",
   "name": "python",
   "nbconvert_exporter": "python",
   "pygments_lexer": "ipython3",
   "version": "3.13.5"
  }
 },
 "nbformat": 4,
 "nbformat_minor": 5
}
