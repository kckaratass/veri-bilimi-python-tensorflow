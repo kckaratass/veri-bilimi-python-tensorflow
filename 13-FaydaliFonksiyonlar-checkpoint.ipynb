{
 "cells": [
  {
   "cell_type": "code",
   "execution_count": 1,
   "id": "e6e2551e-efb7-43d0-aafa-ed4e33a9604b",
   "metadata": {},
   "outputs": [],
   "source": [
    "def bolmeIslemi(numara):\n",
    "    return numara / 2"
   ]
  },
  {
   "cell_type": "code",
   "execution_count": 2,
   "id": "8f8b4be4-7940-4ab0-8ddf-4450ad9641e5",
   "metadata": {},
   "outputs": [
    {
     "data": {
      "text/plain": [
       "20.0"
      ]
     },
     "execution_count": 2,
     "metadata": {},
     "output_type": "execute_result"
    }
   ],
   "source": [
    "bolmeIslemi(40)"
   ]
  },
  {
   "cell_type": "code",
   "execution_count": 3,
   "id": "da1a302b-7ba2-4919-9479-419636f2907b",
   "metadata": {},
   "outputs": [],
   "source": [
    "benimListem = [1,2,3,4,5,6,7,8,9,10]"
   ]
  },
  {
   "cell_type": "code",
   "execution_count": 7,
   "id": "0489d288-b9de-4912-90a1-024d08cec525",
   "metadata": {},
   "outputs": [],
   "source": [
    "yeniListe = []\n",
    "for eleman in benimListem:\n",
    "    yeniListe.append(bolmeIslemi(eleman))"
   ]
  },
  {
   "cell_type": "code",
   "execution_count": 9,
   "id": "f4cb5636-55a6-43df-bfc1-170aa95d8d24",
   "metadata": {},
   "outputs": [
    {
     "data": {
      "text/plain": [
       "[0.5, 1.0, 1.5, 2.0, 2.5, 3.0, 3.5, 4.0, 4.5, 5.0]"
      ]
     },
     "execution_count": 9,
     "metadata": {},
     "output_type": "execute_result"
    }
   ],
   "source": [
    "yeniListe"
   ]
  },
  {
   "cell_type": "markdown",
   "id": "e16704b4-b702-41ad-8ad8-1f8f17715335",
   "metadata": {},
   "source": [
    "## map"
   ]
  },
  {
   "cell_type": "code",
   "execution_count": 10,
   "id": "021a49ed-55ca-48fb-bf6e-d5eb47fc5192",
   "metadata": {},
   "outputs": [],
   "source": [
    "## bir fonksiyonu verilen listedeki (veya iterable'daki) her elemana tek tek uygular ve sonuçları üreten bir iteratör döndürür."
   ]
  },
  {
   "cell_type": "code",
   "execution_count": 11,
   "id": "7d85335c-007c-45ad-abca-35e5fc19a187",
   "metadata": {},
   "outputs": [
    {
     "data": {
      "text/plain": [
       "<map at 0x243a71971f0>"
      ]
     },
     "execution_count": 11,
     "metadata": {},
     "output_type": "execute_result"
    }
   ],
   "source": [
    "map(bolmeIslemi,benimListem)"
   ]
  },
  {
   "cell_type": "code",
   "execution_count": 12,
   "id": "3503a136-05e4-4413-8dee-0dec83f55410",
   "metadata": {},
   "outputs": [
    {
     "data": {
      "text/plain": [
       "[0.5, 1.0, 1.5, 2.0, 2.5, 3.0, 3.5, 4.0, 4.5, 5.0]"
      ]
     },
     "execution_count": 12,
     "metadata": {},
     "output_type": "execute_result"
    }
   ],
   "source": [
    "list(map(bolmeIslemi,benimListem))"
   ]
  },
  {
   "cell_type": "code",
   "execution_count": 13,
   "id": "589136bb-17fa-4c76-947a-6c0286bfe900",
   "metadata": {},
   "outputs": [],
   "source": [
    "def kontrolFonksiyonu(string):\n",
    "    return \"a\" in string"
   ]
  },
  {
   "cell_type": "code",
   "execution_count": 16,
   "id": "820c0548-2381-40e6-adc1-e3fcc2240efc",
   "metadata": {},
   "outputs": [
    {
     "data": {
      "text/plain": [
       "True"
      ]
     },
     "execution_count": 16,
     "metadata": {},
     "output_type": "execute_result"
    }
   ],
   "source": [
    "\"a\" in \"kadir\""
   ]
  },
  {
   "cell_type": "code",
   "execution_count": 17,
   "id": "31f11571-d7a2-446c-8ef3-27762445eddc",
   "metadata": {},
   "outputs": [
    {
     "data": {
      "text/plain": [
       "False"
      ]
     },
     "execution_count": 17,
     "metadata": {},
     "output_type": "execute_result"
    }
   ],
   "source": [
    "\"a\" in \"tugce\""
   ]
  },
  {
   "cell_type": "code",
   "execution_count": 18,
   "id": "ff29b7bf-913c-4d4a-9cb4-799a5e21e88d",
   "metadata": {},
   "outputs": [
    {
     "data": {
      "text/plain": [
       "True"
      ]
     },
     "execution_count": 18,
     "metadata": {},
     "output_type": "execute_result"
    }
   ],
   "source": [
    "kontrolFonksiyonu(\"atıl\")"
   ]
  },
  {
   "cell_type": "code",
   "execution_count": 19,
   "id": "993a4145-0805-470d-b43b-61590dcfaf77",
   "metadata": {},
   "outputs": [],
   "source": [
    "stringListesi = [\"kadir\",\"can\",\"karatas\",\"ahmet\",\"mehmet\",\"levent\",\"ali\"]"
   ]
  },
  {
   "cell_type": "code",
   "execution_count": 21,
   "id": "2c8866b4-497a-4dd6-93a0-721e476d91e6",
   "metadata": {},
   "outputs": [],
   "source": [
    "sonucListesi = list(map(kontrolFonksiyonu,stringListesi))"
   ]
  },
  {
   "cell_type": "code",
   "execution_count": 22,
   "id": "df28ca78-b79a-471b-b1f8-2d31e877f23b",
   "metadata": {},
   "outputs": [
    {
     "data": {
      "text/plain": [
       "[True, True, True, True, False, False, True]"
      ]
     },
     "execution_count": 22,
     "metadata": {},
     "output_type": "execute_result"
    }
   ],
   "source": [
    "sonucListesi"
   ]
  },
  {
   "cell_type": "code",
   "execution_count": 23,
   "id": "b0e43d35-e0d2-425f-b375-b506daf5497b",
   "metadata": {},
   "outputs": [
    {
     "data": {
      "text/plain": [
       "5"
      ]
     },
     "execution_count": 23,
     "metadata": {},
     "output_type": "execute_result"
    }
   ],
   "source": [
    "sonucListesi.count(True)"
   ]
  },
  {
   "cell_type": "code",
   "execution_count": 24,
   "id": "512fcedb-45b7-428b-aa7f-25bb173fdd1f",
   "metadata": {},
   "outputs": [
    {
     "data": {
      "text/plain": [
       "2"
      ]
     },
     "execution_count": 24,
     "metadata": {},
     "output_type": "execute_result"
    }
   ],
   "source": [
    "sonucListesi.count(False)"
   ]
  },
  {
   "cell_type": "markdown",
   "id": "cd18b857-4c37-4fa1-9038-4be57bf5f53e",
   "metadata": {},
   "source": [
    "## filter"
   ]
  },
  {
   "cell_type": "code",
   "execution_count": 25,
   "id": "6290204c-6e55-481f-a178-ef9239ccb0b1",
   "metadata": {},
   "outputs": [],
   "source": [
    "## filter ==> kısaca bir süzgeçtir. Verdiğin fonksiyonu listedeki veya(iterable daki) her elemana uygular. True dönenleri bırakır, diğerlerini atar.\n",
    "## sonuç bir iteratördür."
   ]
  },
  {
   "cell_type": "code",
   "execution_count": 27,
   "id": "4befa039-703d-4515-a163-57c4eb5cf868",
   "metadata": {},
   "outputs": [
    {
     "data": {
      "text/plain": [
       "['kadir', 'can', 'karatas', 'ahmet', 'ali']"
      ]
     },
     "execution_count": 27,
     "metadata": {},
     "output_type": "execute_result"
    }
   ],
   "source": [
    "list(filter(kontrolFonksiyonu,stringListesi))"
   ]
  },
  {
   "cell_type": "markdown",
   "id": "ab255b44-90ef-4d5d-b67d-7a1c1698fb6c",
   "metadata": {},
   "source": [
    "## lambda"
   ]
  },
  {
   "cell_type": "code",
   "execution_count": 28,
   "id": "19dbea1b-1278-4934-9f72-338495d93caa",
   "metadata": {},
   "outputs": [],
   "source": [
    "## lambda ==> kısaca tek satırlık mini bir fonksiyondur. \"İsim vermeden şimdi ve burada küçük bir işlem yap\" demenin pythondaki yolu."
   ]
  },
  {
   "cell_type": "code",
   "execution_count": 29,
   "id": "23aa0038-e270-4384-a5ec-48d6820477b3",
   "metadata": {},
   "outputs": [],
   "source": [
    "carpma = lambda numara : numara * 3"
   ]
  },
  {
   "cell_type": "code",
   "execution_count": 30,
   "id": "14e0e0bb-279c-43f4-a34a-e3a6b04d5d7c",
   "metadata": {},
   "outputs": [
    {
     "data": {
      "text/plain": [
       "30"
      ]
     },
     "execution_count": 30,
     "metadata": {},
     "output_type": "execute_result"
    }
   ],
   "source": [
    "carpma(10)"
   ]
  },
  {
   "cell_type": "code",
   "execution_count": 31,
   "id": "7e749c78-630a-49db-bc24-c1a14efb53ce",
   "metadata": {},
   "outputs": [],
   "source": [
    "ornekListesi  = [10,20,30]"
   ]
  },
  {
   "cell_type": "code",
   "execution_count": 36,
   "id": "ebcb10ca-51c3-431a-afe0-a029b6f4eb2a",
   "metadata": {},
   "outputs": [
    {
     "data": {
      "text/plain": [
       "[40, 80, 120]"
      ]
     },
     "execution_count": 36,
     "metadata": {},
     "output_type": "execute_result"
    }
   ],
   "source": [
    "list(map(lambda numara : numara * 4,ornekListesi))"
   ]
  },
  {
   "cell_type": "code",
   "execution_count": null,
   "id": "90d31b83-3855-4ca6-9a6b-3f7f508c2553",
   "metadata": {},
   "outputs": [],
   "source": []
  },
  {
   "cell_type": "code",
   "execution_count": null,
   "id": "90a444c4-77b5-48f1-bf61-3e4d04275523",
   "metadata": {},
   "outputs": [],
   "source": []
  }
 ],
 "metadata": {
  "kernelspec": {
   "display_name": "Python [conda env:base] *",
   "language": "python",
   "name": "conda-base-py"
  },
  "language_info": {
   "codemirror_mode": {
    "name": "ipython",
    "version": 3
   },
   "file_extension": ".py",
   "mimetype": "text/x-python",
   "name": "python",
   "nbconvert_exporter": "python",
   "pygments_lexer": "ipython3",
   "version": "3.13.5"
  }
 },
 "nbformat": 4,
 "nbformat_minor": 5
}
