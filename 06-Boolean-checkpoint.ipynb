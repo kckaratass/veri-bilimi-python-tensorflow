{
 "cells": [
  {
   "cell_type": "markdown",
   "id": "f046978f-984e-401f-9813-00436c1e15db",
   "metadata": {},
   "source": [
    "## Boolean"
   ]
  },
  {
   "cell_type": "code",
   "execution_count": 1,
   "id": "ef85db16-a7e0-487d-ad68-c2924d2a4ca6",
   "metadata": {},
   "outputs": [],
   "source": [
    "## Boolean ==> Evet/Hayır ya da Açık/Kapalı gibi iki seçenekli mantık."
   ]
  },
  {
   "cell_type": "code",
   "execution_count": 5,
   "id": "3c34bd5a-022c-4190-baed-ebe16945ad84",
   "metadata": {},
   "outputs": [],
   "source": [
    "benimBoolean = True"
   ]
  },
  {
   "cell_type": "code",
   "execution_count": 6,
   "id": "f4b57658-760a-499f-9000-89b3f0cea866",
   "metadata": {},
   "outputs": [
    {
     "data": {
      "text/plain": [
       "True"
      ]
     },
     "execution_count": 6,
     "metadata": {},
     "output_type": "execute_result"
    }
   ],
   "source": [
    "benimBoolean"
   ]
  },
  {
   "cell_type": "code",
   "execution_count": 7,
   "id": "1d1a4b6b-b20e-47e2-8148-4525cf419fec",
   "metadata": {},
   "outputs": [
    {
     "data": {
      "text/plain": [
       "bool"
      ]
     },
     "execution_count": 7,
     "metadata": {},
     "output_type": "execute_result"
    }
   ],
   "source": [
    "type(benimBoolean)"
   ]
  },
  {
   "cell_type": "code",
   "execution_count": 8,
   "id": "27d90098-bae0-4725-8922-d86278d50777",
   "metadata": {},
   "outputs": [],
   "source": [
    "benimBoolean = False "
   ]
  },
  {
   "cell_type": "code",
   "execution_count": 9,
   "id": "8e8222a4-514d-47c2-8335-9c93a9cc0b1a",
   "metadata": {},
   "outputs": [
    {
     "data": {
      "text/plain": [
       "True"
      ]
     },
     "execution_count": 9,
     "metadata": {},
     "output_type": "execute_result"
    }
   ],
   "source": [
    "10 > 5"
   ]
  },
  {
   "cell_type": "code",
   "execution_count": 10,
   "id": "da566518-5d8c-48c7-b19b-f1ff5f524223",
   "metadata": {},
   "outputs": [
    {
     "data": {
      "text/plain": [
       "False"
      ]
     },
     "execution_count": 10,
     "metadata": {},
     "output_type": "execute_result"
    }
   ],
   "source": [
    "10 < 5"
   ]
  },
  {
   "cell_type": "code",
   "execution_count": 14,
   "id": "b0350d9b-0e1e-4865-a2a1-804002a02b38",
   "metadata": {},
   "outputs": [],
   "source": [
    "listem = [5000,10000,3000,1000,2000,4000]"
   ]
  },
  {
   "cell_type": "code",
   "execution_count": 15,
   "id": "dfd1ed4f-1f93-4b39-a640-cef8ca9f4d70",
   "metadata": {},
   "outputs": [
    {
     "data": {
      "text/plain": [
       "6"
      ]
     },
     "execution_count": 15,
     "metadata": {},
     "output_type": "execute_result"
    }
   ],
   "source": [
    "len(listem)"
   ]
  },
  {
   "cell_type": "code",
   "execution_count": 16,
   "id": "07ba14fd-bdda-4fa4-b8dd-1edfa19c0fed",
   "metadata": {},
   "outputs": [
    {
     "data": {
      "text/plain": [
       "25000"
      ]
     },
     "execution_count": 16,
     "metadata": {},
     "output_type": "execute_result"
    }
   ],
   "source": [
    "sum(listem)"
   ]
  },
  {
   "cell_type": "code",
   "execution_count": 17,
   "id": "e66057fd-de21-40eb-85ff-caaf5602e9e7",
   "metadata": {},
   "outputs": [],
   "source": [
    "ortalama = sum(listem) / len(listem)"
   ]
  },
  {
   "cell_type": "code",
   "execution_count": 18,
   "id": "45ccb00d-5f72-41fa-98f0-42ac7574e6e2",
   "metadata": {},
   "outputs": [
    {
     "data": {
      "text/plain": [
       "4166.666666666667"
      ]
     },
     "execution_count": 18,
     "metadata": {},
     "output_type": "execute_result"
    }
   ],
   "source": [
    "ortalama"
   ]
  },
  {
   "cell_type": "code",
   "execution_count": 19,
   "id": "b7451358-fd4b-43a7-b234-d338615b91b3",
   "metadata": {},
   "outputs": [
    {
     "data": {
      "text/plain": [
       "False"
      ]
     },
     "execution_count": 19,
     "metadata": {},
     "output_type": "execute_result"
    }
   ],
   "source": [
    "listem[3] > ortalama"
   ]
  },
  {
   "cell_type": "code",
   "execution_count": 20,
   "id": "8abbf820-915b-4565-a856-8b16339760fe",
   "metadata": {},
   "outputs": [
    {
     "name": "stdin",
     "output_type": "stream",
     "text": [
      "Maas bilgisini giriniz:  6000\n"
     ]
    }
   ],
   "source": [
    "kullaniciMaas = input(\"Maas bilgisini giriniz: \")"
   ]
  },
  {
   "cell_type": "code",
   "execution_count": 21,
   "id": "91ddc92a-2313-40d4-9094-7419488e1f18",
   "metadata": {},
   "outputs": [],
   "source": [
    "kullaniciMaasInt = int(kullaniciMaas)"
   ]
  },
  {
   "cell_type": "code",
   "execution_count": 23,
   "id": "570f62f7-9777-42a7-b434-d487182e95b2",
   "metadata": {},
   "outputs": [
    {
     "data": {
      "text/plain": [
       "False"
      ]
     },
     "execution_count": 23,
     "metadata": {},
     "output_type": "execute_result"
    }
   ],
   "source": [
    "kullaniciMaasInt > 6000"
   ]
  },
  {
   "cell_type": "code",
   "execution_count": 24,
   "id": "6991f470-4ba6-444a-a0a0-b2955a60bc24",
   "metadata": {},
   "outputs": [
    {
     "data": {
      "text/plain": [
       "True"
      ]
     },
     "execution_count": 24,
     "metadata": {},
     "output_type": "execute_result"
    }
   ],
   "source": [
    "kullaniciMaasInt > ortalama"
   ]
  },
  {
   "cell_type": "code",
   "execution_count": null,
   "id": "020875d2-439e-47bc-b0c4-e42db0c9e585",
   "metadata": {},
   "outputs": [],
   "source": []
  }
 ],
 "metadata": {
  "kernelspec": {
   "display_name": "Python [conda env:base] *",
   "language": "python",
   "name": "conda-base-py"
  },
  "language_info": {
   "codemirror_mode": {
    "name": "ipython",
    "version": 3
   },
   "file_extension": ".py",
   "mimetype": "text/x-python",
   "name": "python",
   "nbconvert_exporter": "python",
   "pygments_lexer": "ipython3",
   "version": "3.13.5"
  }
 },
 "nbformat": 4,
 "nbformat_minor": 5
}
