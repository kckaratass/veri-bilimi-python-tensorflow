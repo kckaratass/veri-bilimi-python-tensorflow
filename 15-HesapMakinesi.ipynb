{
 "cells": [
  {
   "cell_type": "code",
   "execution_count": null,
   "id": "38c8f511-52d2-4ad2-bf05-c04c51185302",
   "metadata": {},
   "outputs": [],
   "source": [
    "def hesapla(a,b,islem):\n",
    "    if islem not in \"+-*/\":\n",
    "        return \"Lütfen şu işlemlerden birini seçiniz: +-*/\"\n",
    "    if islem == \"+\":\n",
    "        return(str(a)+\" + \"+str(b) + \" = \" +str(a+b))\n",
    "    if islem == \"-\":\n",
    "        return(str(a)+\" - \"+str(b) + \" = \" +str(a-b))\n",
    "    if islem == \"*\":\n",
    "        return(str(a)+\" * \"+str(b) + \" = \" +str(a*b))\n",
    "    if islem == \"/\":\n",
    "        return(str(a)+\" / \"+str(b) + \" = \" +str(a/b))     \n",
    "\n",
    "while True:\n",
    "    try:\n",
    "        a = int(input(\"ilk sayıyı giriniz: \"))\n",
    "        b = int(input(\"ikinci sayıyı giriniz: \"))\n",
    "        islem = input(\"işleminizi seçiniz: +-*/\")\n",
    "        print(hesapla(a,b,islem))\n",
    "    except:\n",
    "        print(\"Lütfen sayıları düzgün giriniz!\")"
   ]
  },
  {
   "cell_type": "markdown",
   "id": "190eca22-dd62-4f0f-81fd-3e71c9837276",
   "metadata": {},
   "source": [
    "## Try - Except Yapısı"
   ]
  },
  {
   "cell_type": "code",
   "execution_count": 1,
   "id": "83ad67d2-f2f2-4f4e-92d2-896ba94bf505",
   "metadata": {},
   "outputs": [],
   "source": [
    "## Python'da try - except yapısı hata ayıklama (exception handling) için kullanılır. Yani program da hata olduğunda \n",
    "## uygulamanın çökmemesini, o hatayı kontrollü şekilde yönetmemizi sağlar."
   ]
  },
  {
   "cell_type": "code",
   "execution_count": null,
   "id": "8f2267f4-00ca-4277-a01c-0656d9f185c0",
   "metadata": {},
   "outputs": [],
   "source": []
  }
 ],
 "metadata": {
  "kernelspec": {
   "display_name": "Python [conda env:base] *",
   "language": "python",
   "name": "conda-base-py"
  },
  "language_info": {
   "codemirror_mode": {
    "name": "ipython",
    "version": 3
   },
   "file_extension": ".py",
   "mimetype": "text/x-python",
   "name": "python",
   "nbconvert_exporter": "python",
   "pygments_lexer": "ipython3",
   "version": "3.13.5"
  }
 },
 "nbformat": 4,
 "nbformat_minor": 5
}
