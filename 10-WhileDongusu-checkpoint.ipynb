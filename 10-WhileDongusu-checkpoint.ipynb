{
 "cells": [
  {
   "cell_type": "markdown",
   "id": "b12dab84-11e2-47af-82ad-30568fae3938",
   "metadata": {},
   "source": [
    "## While"
   ]
  },
  {
   "cell_type": "code",
   "execution_count": 1,
   "id": "37889612-a513-43e9-ae87-572dc79f76f7",
   "metadata": {},
   "outputs": [],
   "source": [
    "## While Döngüsü ==> Bir şart olduğu sürece çalışan bir döngüdür. Yani bu koşul sağlaadıkça tekrarla demektir."
   ]
  },
  {
   "cell_type": "code",
   "execution_count": 7,
   "id": "c0ac23e4-18de-4f25-8a59-1cbcfe67f8b5",
   "metadata": {},
   "outputs": [
    {
     "name": "stdout",
     "output_type": "stream",
     "text": [
      "0\n",
      "1\n",
      "2\n",
      "3\n",
      "4\n",
      "5\n",
      "6\n",
      "7\n",
      "8\n",
      "9\n"
     ]
    }
   ],
   "source": [
    "x = 0\n",
    "while x < 10:\n",
    "    print(x)\n",
    "    x = x + 1"
   ]
  },
  {
   "cell_type": "code",
   "execution_count": 8,
   "id": "80c13421-f610-4eef-b425-a17667bee0f9",
   "metadata": {},
   "outputs": [],
   "source": [
    "benimListem = [1,2,3,4,5]"
   ]
  },
  {
   "cell_type": "code",
   "execution_count": 9,
   "id": "37dbc198-f1cf-48a4-967f-28b86c483109",
   "metadata": {},
   "outputs": [
    {
     "data": {
      "text/plain": [
       "5"
      ]
     },
     "execution_count": 9,
     "metadata": {},
     "output_type": "execute_result"
    }
   ],
   "source": [
    "benimListem.pop()"
   ]
  },
  {
   "cell_type": "code",
   "execution_count": 10,
   "id": "7f2852f8-7e34-4e4e-a3a5-b9ced82cb3e7",
   "metadata": {},
   "outputs": [
    {
     "data": {
      "text/plain": [
       "[1, 2, 3, 4]"
      ]
     },
     "execution_count": 10,
     "metadata": {},
     "output_type": "execute_result"
    }
   ],
   "source": [
    "benimListem"
   ]
  },
  {
   "cell_type": "code",
   "execution_count": 11,
   "id": "49a7c38f-9f09-44cc-8bd7-8da78cf6532c",
   "metadata": {},
   "outputs": [],
   "source": [
    "benimListem.append(5)"
   ]
  },
  {
   "cell_type": "code",
   "execution_count": 12,
   "id": "a54e93aa-ec78-46bc-8569-1249a289a65d",
   "metadata": {},
   "outputs": [
    {
     "data": {
      "text/plain": [
       "[1, 2, 3, 4, 5]"
      ]
     },
     "execution_count": 12,
     "metadata": {},
     "output_type": "execute_result"
    }
   ],
   "source": [
    "benimListem"
   ]
  },
  {
   "cell_type": "code",
   "execution_count": 13,
   "id": "5749a7e1-4a16-479f-8146-db38c8b44eca",
   "metadata": {},
   "outputs": [
    {
     "data": {
      "text/plain": [
       "True"
      ]
     },
     "execution_count": 13,
     "metadata": {},
     "output_type": "execute_result"
    }
   ],
   "source": [
    "3 in benimListem"
   ]
  },
  {
   "cell_type": "code",
   "execution_count": 15,
   "id": "483b68f1-b23c-44a1-bd95-aba1fd9e1b64",
   "metadata": {},
   "outputs": [
    {
     "name": "stdout",
     "output_type": "stream",
     "text": [
      "3 hala listenin içinde\n",
      "3 hala listenin içinde\n",
      "3 hala listenin içinde\n"
     ]
    }
   ],
   "source": [
    "while 3 in benimListem:\n",
    "    print(\"3 hala listenin içinde\")\n",
    "    benimListem.pop()"
   ]
  },
  {
   "cell_type": "code",
   "execution_count": 1,
   "id": "daec776f-ffd0-482d-a54d-58df8c844090",
   "metadata": {},
   "outputs": [
    {
     "name": "stdout",
     "output_type": "stream",
     "text": [
      "0\n",
      "1\n",
      "2\n",
      "3\n"
     ]
    }
   ],
   "source": [
    "numara = 0\n",
    "while numara < 5:\n",
    "    if numara == 4:\n",
    "        break\n",
    "    print(numara)\n",
    "    numara = numara + 1"
   ]
  },
  {
   "cell_type": "code",
   "execution_count": 3,
   "id": "e47d6679-6cc9-47c5-b274-e60429239789",
   "metadata": {
    "scrolled": true
   },
   "outputs": [
    {
     "name": "stdout",
     "output_type": "stream",
     "text": [
      "yeniDegiskenin güncel degeri :  0\n",
      "yeniDegiskenin güncel degeri :  1\n",
      "yeniDegiskenin güncel degeri :  2\n",
      "yeniDegiskenin güncel degeri :  3\n",
      "yeniDegiskenin güncel degeri :  4\n",
      "yeniDegiskenin güncel degeri :  5\n",
      "yeniDegiskenin güncel degeri :  6\n",
      "yeniDegiskenin güncel degeri :  7\n",
      "yeniDegiskenin güncel degeri :  8\n",
      "yeniDegiskenin güncel degeri :  9\n",
      "yeniDegiskenin güncel degeri :  10\n",
      "yeniDegiskenin güncel degeri :  11\n",
      "yeniDegiskenin güncel degeri :  12\n",
      "yeniDegiskenin güncel degeri :  13\n",
      "yeniDegiskenin güncel degeri :  14\n"
     ]
    }
   ],
   "source": [
    "yeniDegisken = 0\n",
    "while yeniDegisken < 15:\n",
    "    print(\"yeniDegiskenin güncel degeri : \", yeniDegisken)\n",
    "    yeniDegisken += 1   # Burada mutlaka while'ın içinde olmalı!"
   ]
  },
  {
   "cell_type": "code",
   "execution_count": 4,
   "id": "aefec870-21a4-404e-b70d-ede079610db1",
   "metadata": {},
   "outputs": [
    {
     "name": "stdout",
     "output_type": "stream",
     "text": [
      "yeniDegisken'in güncel degeri : 0\n",
      "yeniDegisken'in güncel degeri : 1\n",
      "yeniDegisken'in güncel degeri : 2\n",
      "yeniDegisken'in güncel degeri : 3\n",
      "yeniDegisken'in güncel degeri : 4\n",
      "yeniDegisken'in güncel degeri : 5\n",
      "yeniDegisken'in güncel degeri : 6\n",
      "yeniDegisken'in güncel degeri : 7\n",
      "yeniDegisken'in güncel degeri : 8\n",
      "yeniDegisken'in güncel degeri : 9\n",
      "yeniDegisken'in güncel degeri : 10\n",
      "yeniDegisken'in güncel degeri : 11\n",
      "yeniDegisken'in güncel degeri : 12\n",
      "yeniDegisken'in güncel degeri : 13\n",
      "yeniDegisken'in güncel degeri : 14\n"
     ]
    }
   ],
   "source": [
    "yeniDegisken = 0\n",
    "while yeniDegisken < 15:\n",
    "    print(\"yeniDegisken'in güncel degeri : \" + str(yeniDegisken))\n",
    "    yeniDegisken += 1"
   ]
  },
  {
   "cell_type": "code",
   "execution_count": 5,
   "id": "d01a2c4d-fdc6-444c-80ba-e64f104c1a91",
   "metadata": {},
   "outputs": [
    {
     "name": "stdout",
     "output_type": "stream",
     "text": [
      "yeniDegisken'in güncel degeri : 0 \n",
      "yeniDegisken'in güncel degeri : 1 \n",
      "yeniDegisken'in güncel degeri : 2 \n",
      "yeniDegisken'in güncel degeri : 3 \n",
      "yeniDegisken'in güncel degeri : 4 \n",
      "yeniDegisken'in güncel degeri : 5 \n",
      "yeniDegisken'in güncel degeri : 6 \n",
      "yeniDegisken'in güncel degeri : 7 \n",
      "yeniDegisken'in güncel degeri : 8 \n",
      "yeniDegisken'in güncel degeri : 9 \n",
      "yeniDegisken'in güncel degeri : 10 \n",
      "yeniDegisken'in güncel degeri : 11 \n",
      "yeniDegisken'in güncel degeri : 12 \n",
      "yeniDegisken'in güncel degeri : 13 \n",
      "yeniDegisken'in güncel degeri : 14 \n"
     ]
    }
   ],
   "source": [
    "yeniDegisken = 0\n",
    "while yeniDegisken < 15:\n",
    "    print(f\"yeniDegisken'in güncel degeri : {yeniDegisken} \") ## Bu yazım şekline f-string deniyor yani formatlı string Pythonda metin içinde değişkenlerin\n",
    "    yeniDegisken += 1                                         ## değerini kolayca göstermek için kullanılır."
   ]
  },
  {
   "cell_type": "code",
   "execution_count": null,
   "id": "118b07a3-c1d3-4580-95e9-9ca7c77fa901",
   "metadata": {},
   "outputs": [],
   "source": []
  }
 ],
 "metadata": {
  "kernelspec": {
   "display_name": "Python [conda env:base] *",
   "language": "python",
   "name": "conda-base-py"
  },
  "language_info": {
   "codemirror_mode": {
    "name": "ipython",
    "version": 3
   },
   "file_extension": ".py",
   "mimetype": "text/x-python",
   "name": "python",
   "nbconvert_exporter": "python",
   "pygments_lexer": "ipython3",
   "version": "3.13.5"
  }
 },
 "nbformat": 4,
 "nbformat_minor": 5
}
