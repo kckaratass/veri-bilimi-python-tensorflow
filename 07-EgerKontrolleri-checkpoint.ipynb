{
 "cells": [
  {
   "cell_type": "code",
   "execution_count": 1,
   "id": "1485e0a8-5ef2-4949-8da7-cd29190865af",
   "metadata": {},
   "outputs": [
    {
     "data": {
      "text/plain": [
       "True"
      ]
     },
     "execution_count": 1,
     "metadata": {},
     "output_type": "execute_result"
    }
   ],
   "source": [
    "3 > 1"
   ]
  },
  {
   "cell_type": "code",
   "execution_count": 6,
   "id": "b9918752-01e5-4095-b990-3f5ee699c472",
   "metadata": {},
   "outputs": [
    {
     "name": "stdout",
     "output_type": "stream",
     "text": [
      "Kadir Can Karataş\n",
      "if koşulu sağlandı\n"
     ]
    }
   ],
   "source": [
    "if 3 > 1:\n",
    "    print(\"Kadir Can Karataş\")\n",
    "    print(\"if koşulu sağlandı\")"
   ]
  },
  {
   "cell_type": "code",
   "execution_count": 9,
   "id": "1aa80bb6-1336-404d-a7bb-ee705d65f8b3",
   "metadata": {},
   "outputs": [
    {
     "name": "stdout",
     "output_type": "stream",
     "text": [
      "if koşulunun dışına çıktık.\n"
     ]
    }
   ],
   "source": [
    "if 3 > 4:\n",
    "    print(\"Kadir Can Karataş\")\n",
    "    print(\"if koşulu sağlandı\")\n",
    "print(\"if koşulunun dışına çıktık.\")"
   ]
  },
  {
   "cell_type": "code",
   "execution_count": 10,
   "id": "2933721d-8a52-4e0c-a186-8c6235068bca",
   "metadata": {},
   "outputs": [
    {
     "name": "stdout",
     "output_type": "stream",
     "text": [
      "Kadir Can Karataş\n",
      "if koşulu sağlandı\n",
      "if koşulunun dışına çıktık.\n"
     ]
    }
   ],
   "source": [
    "if 3 > 1:\n",
    "    print(\"Kadir Can Karataş\")\n",
    "    print(\"if koşulu sağlandı\")\n",
    "print(\"if koşulunun dışına çıktık.\")"
   ]
  },
  {
   "cell_type": "code",
   "execution_count": 13,
   "id": "62d8a641-3f93-46aa-a561-71643a57e07a",
   "metadata": {},
   "outputs": [],
   "source": [
    "x = 5\n",
    "y = 4"
   ]
  },
  {
   "cell_type": "code",
   "execution_count": 14,
   "id": "7b5fedcf-d2cb-4f33-9469-9207b3cbce24",
   "metadata": {},
   "outputs": [
    {
     "name": "stdout",
     "output_type": "stream",
     "text": [
      "x y'den daha büyüktür.\n"
     ]
    }
   ],
   "source": [
    "if x > y:\n",
    "    print(\"x y'den daha büyüktür.\")"
   ]
  },
  {
   "cell_type": "code",
   "execution_count": 18,
   "id": "66e34662-2e6f-44ce-bbbf-ebc66bea3028",
   "metadata": {},
   "outputs": [],
   "source": [
    "x = 4\n",
    "y = 4"
   ]
  },
  {
   "cell_type": "code",
   "execution_count": 21,
   "id": "81172fbc-1fbc-4805-839c-c77b7fdae086",
   "metadata": {},
   "outputs": [
    {
     "name": "stdout",
     "output_type": "stream",
     "text": [
      "x ve y birbirine eşitmiş.\n"
     ]
    }
   ],
   "source": [
    "if x > y:\n",
    "    print(\"x y'den daha büyükmüş\")\n",
    "elif x < y:\n",
    "    print(\"x y'den daha küçükmüş\")\n",
    "else:\n",
    "    print(\"x ve y birbirine eşitmiş.\")"
   ]
  },
  {
   "cell_type": "code",
   "execution_count": 8,
   "id": "92f3d62e-c575-4795-ac1d-bd7dcca0431c",
   "metadata": {},
   "outputs": [
    {
     "name": "stdin",
     "output_type": "stream",
     "text": [
      "Süper kahraman seçiniz:  Ben Ten\n"
     ]
    }
   ],
   "source": [
    "benimKahramanim = input(\"Süper kahraman seçiniz: \")"
   ]
  },
  {
   "cell_type": "code",
   "execution_count": 9,
   "id": "b258efb4-8a72-4204-a463-b5eae01c67e1",
   "metadata": {},
   "outputs": [
    {
     "name": "stdout",
     "output_type": "stream",
     "text": [
      "Bu kim gerçekten bilmiyoruz.\n"
     ]
    }
   ],
   "source": [
    "if benimKahramanim == \"Batman\":\n",
    "    print(\"Tebrikler Batman'i Seçtiniz.\")\n",
    "elif benimKahramanim == \"Superman\":\n",
    "    print(\"Keşke Batman'i seçseydiniz.\")\n",
    "elif benimKahramanim == \"Iron Man\":\n",
    "    print(\"Iron Man kimdir ?\")\n",
    "else:\n",
    "    print(\"Bu kim gerçekten bilmiyoruz.\")"
   ]
  },
  {
   "cell_type": "code",
   "execution_count": 14,
   "id": "ac92225f-8550-4887-9314-ebc76cb5fe59",
   "metadata": {},
   "outputs": [],
   "source": [
    "a = 10\n",
    "b = 20\n",
    "c = 20"
   ]
  },
  {
   "cell_type": "code",
   "execution_count": 16,
   "id": "b1ef1106-7a6f-4cbe-8211-f28dc90ec1b5",
   "metadata": {},
   "outputs": [
    {
     "name": "stdout",
     "output_type": "stream",
     "text": [
      "Yazdığın koşullar sağlanmadı\n"
     ]
    }
   ],
   "source": [
    "if a > b and b > c:\n",
    "    print(\"a b'den büyük VE b de c'den büyüktür\")\n",
    "elif a < b and b < c:\n",
    "    print(\"a, b'den küçük VE b de c'den küçüktür.\")\n",
    "else:\n",
    "    print(\"Yazdığın koşullar sağlanmadı\")"
   ]
  },
  {
   "cell_type": "code",
   "execution_count": 17,
   "id": "69cf01ee-c61f-4d85-8e56-e32034176bc4",
   "metadata": {},
   "outputs": [],
   "source": [
    "m = 10\n",
    "k = 4\n",
    "l = 1"
   ]
  },
  {
   "cell_type": "code",
   "execution_count": 18,
   "id": "7a44b5b6-0cd4-42c0-a832-f6d7ca19e72c",
   "metadata": {},
   "outputs": [
    {
     "name": "stdout",
     "output_type": "stream",
     "text": [
      "Kod çalışacak mı ?\n"
     ]
    }
   ],
   "source": [
    "if m > k or l > k:\n",
    "    print(\"Kod çalışacak mı ?\")"
   ]
  },
  {
   "cell_type": "code",
   "execution_count": 8,
   "id": "b80db930-7c4d-47ab-bcaa-8ad4368b4367",
   "metadata": {},
   "outputs": [],
   "source": [
    "karakterCanli = False"
   ]
  },
  {
   "cell_type": "code",
   "execution_count": 9,
   "id": "f6a4eaf1-d6b3-48b0-8816-477b2ef2e089",
   "metadata": {},
   "outputs": [
    {
     "name": "stdout",
     "output_type": "stream",
     "text": [
      "Oyun karakteriniz yaşamıyor.\n"
     ]
    }
   ],
   "source": [
    "if karakterCanli == True:\n",
    "    print(\"Oyun karakteriniz yaşıyor.\")\n",
    "else:\n",
    "    print(\"Oyun karakteriniz yaşamıyor.\")"
   ]
  },
  {
   "cell_type": "code",
   "execution_count": 10,
   "id": "28a9feb8-086c-446e-86e9-fc959fc479c6",
   "metadata": {},
   "outputs": [],
   "source": [
    "if karakterCanli:\n",
    "    print(\"Oyun karakteriniz yaşıyor.\")"
   ]
  },
  {
   "cell_type": "code",
   "execution_count": 11,
   "id": "a3dcae8b-99b7-4acb-925f-d0538749db3c",
   "metadata": {},
   "outputs": [
    {
     "name": "stdout",
     "output_type": "stream",
     "text": [
      "Oyun karakteriniz yaşamıyor\n"
     ]
    }
   ],
   "source": [
    "if karakterCanli == False:\n",
    "    print(\"Oyun karakteriniz yaşamıyor\")\n",
    "else:\n",
    "    print(\"Oyun karakteriniz yaşıyor\")"
   ]
  },
  {
   "cell_type": "code",
   "execution_count": 12,
   "id": "038c4918-4f9e-4b52-921e-d42e4ef7ea63",
   "metadata": {},
   "outputs": [
    {
     "name": "stdout",
     "output_type": "stream",
     "text": [
      "Oyun karakteriniz yaşıyor\n"
     ]
    }
   ],
   "source": [
    "if not karakterCanli:\n",
    "    print(\"Oyun karakteriniz yaşıyor\")\n",
    "else:\n",
    "    print(\"Oyun karakteriniz yaşamıyor\")"
   ]
  },
  {
   "cell_type": "code",
   "execution_count": 13,
   "id": "b3b772ee-22a6-4abc-9400-453ec8c4a8de",
   "metadata": {},
   "outputs": [
    {
     "name": "stdout",
     "output_type": "stream",
     "text": [
      "Oyun karakteriniz yaşıyor\n"
     ]
    }
   ],
   "source": [
    "if not karakterCanli == True:\n",
    "    print(\"Oyun karakteriniz yaşıyor\")\n",
    "else:\n",
    "    print(\"Oyun karakteriniz yaşamıyor\")"
   ]
  },
  {
   "cell_type": "code",
   "execution_count": 14,
   "id": "df5bb722-9a8c-4ddf-b5ec-5ccbf63a7135",
   "metadata": {},
   "outputs": [
    {
     "name": "stdout",
     "output_type": "stream",
     "text": [
      "Oyun karakteriniz yaşamıyor\n"
     ]
    }
   ],
   "source": [
    "if not karakterCanli == False:\n",
    "    print(\"Oyun karakteriniz yaşıyor\")\n",
    "else:\n",
    "    print(\"Oyun karakteriniz yaşamıyor\")"
   ]
  },
  {
   "cell_type": "code",
   "execution_count": 15,
   "id": "71b97767-0382-43cd-b47a-ad429d3e05f5",
   "metadata": {},
   "outputs": [],
   "source": [
    "benimString = \"Kadir Can Karataş\""
   ]
  },
  {
   "cell_type": "code",
   "execution_count": 17,
   "id": "cda822c8-c2fb-40d4-95f9-f3dbb11627bd",
   "metadata": {},
   "outputs": [
    {
     "name": "stdout",
     "output_type": "stream",
     "text": [
      "Eşit değilmiş\n"
     ]
    }
   ],
   "source": [
    "if benimString == \"kadir can karataş\":\n",
    "    print(\"Eşitmiş.\")\n",
    "else:\n",
    "    print(\"Eşit değilmiş\")"
   ]
  },
  {
   "cell_type": "code",
   "execution_count": 19,
   "id": "084e0147-1ec6-4a33-9dca-40c77a9d02ed",
   "metadata": {},
   "outputs": [
    {
     "name": "stdout",
     "output_type": "stream",
     "text": [
      "varmış\n"
     ]
    }
   ],
   "source": [
    "if \"Karataş\" in benimString:\n",
    "    print(\"varmış\")\n",
    "else:\n",
    "    print(\"yokmuş\")"
   ]
  },
  {
   "cell_type": "code",
   "execution_count": 20,
   "id": "aafd8dda-a91c-44f0-b676-570e4154d6c6",
   "metadata": {},
   "outputs": [],
   "source": [
    "benimListem = [10,20,30,40,50]"
   ]
  },
  {
   "cell_type": "code",
   "execution_count": 22,
   "id": "8804278e-f731-4a38-9a82-359d813bfa64",
   "metadata": {},
   "outputs": [
    {
     "name": "stdout",
     "output_type": "stream",
     "text": [
      "varmış\n"
     ]
    }
   ],
   "source": [
    "if 10 in benimListem:\n",
    "    print(\"varmış\")"
   ]
  },
  {
   "cell_type": "code",
   "execution_count": 23,
   "id": "b20acbd2-9bff-49ba-a4f8-2a5dd304aa24",
   "metadata": {},
   "outputs": [],
   "source": [
    "benimSozluk = {\"muz\" : 100 , \"elma\" : 150 , \"karpuz\" : 500}"
   ]
  },
  {
   "cell_type": "code",
   "execution_count": 24,
   "id": "e273e58d-0148-40e3-a817-51eea893f33a",
   "metadata": {},
   "outputs": [
    {
     "data": {
      "text/plain": [
       "dict_keys(['muz', 'elma', 'karpuz'])"
      ]
     },
     "execution_count": 24,
     "metadata": {},
     "output_type": "execute_result"
    }
   ],
   "source": [
    "benimSozluk.keys()"
   ]
  },
  {
   "cell_type": "code",
   "execution_count": 27,
   "id": "bdfddfc3-138c-4431-a2af-1d7a240faf5c",
   "metadata": {},
   "outputs": [
    {
     "name": "stdout",
     "output_type": "stream",
     "text": [
      "muz varmış\n"
     ]
    }
   ],
   "source": [
    "if \"muz\" in benimSozluk:\n",
    "    print(\"muz varmış\")"
   ]
  },
  {
   "cell_type": "code",
   "execution_count": 30,
   "id": "21dfcbcd-b5e1-4cce-befd-8bdae253bd43",
   "metadata": {},
   "outputs": [],
   "source": [
    "if 250 in benimSozluk.values():\n",
    "    print(\"evet\")"
   ]
  },
  {
   "cell_type": "code",
   "execution_count": 32,
   "id": "78ef44f9-254a-4d36-8918-6a02dcbd4d98",
   "metadata": {},
   "outputs": [
    {
     "name": "stdout",
     "output_type": "stream",
     "text": [
      "evet\n"
     ]
    }
   ],
   "source": [
    "if 500 in benimSozluk.values():\n",
    "    print(\"evet\")"
   ]
  },
  {
   "cell_type": "code",
   "execution_count": null,
   "id": "8f9091a4-f534-4ba6-babe-11527981f285",
   "metadata": {},
   "outputs": [],
   "source": []
  }
 ],
 "metadata": {
  "kernelspec": {
   "display_name": "Python [conda env:base] *",
   "language": "python",
   "name": "conda-base-py"
  },
  "language_info": {
   "codemirror_mode": {
    "name": "ipython",
    "version": 3
   },
   "file_extension": ".py",
   "mimetype": "text/x-python",
   "name": "python",
   "nbconvert_exporter": "python",
   "pygments_lexer": "ipython3",
   "version": "3.13.5"
  }
 },
 "nbformat": 4,
 "nbformat_minor": 5
}
