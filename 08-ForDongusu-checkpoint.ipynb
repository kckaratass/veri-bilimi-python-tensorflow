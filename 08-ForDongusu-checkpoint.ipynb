{
 "cells": [
  {
   "cell_type": "markdown",
   "id": "b77a63a5-4528-4f49-b8d3-e37af880aed0",
   "metadata": {},
   "source": [
    "## For Döngüsü"
   ]
  },
  {
   "cell_type": "code",
   "execution_count": 1,
   "id": "1b5d3f7b-24a5-415f-8f8a-3e36a4253a5e",
   "metadata": {},
   "outputs": [],
   "source": [
    "## for döngüsü ==> bir işi tekrar tekrar yapmamızı sağlayan yapıdır.  "
   ]
  },
  {
   "cell_type": "code",
   "execution_count": 2,
   "id": "53654511-b217-48d8-a213-84cee5cb8f7e",
   "metadata": {},
   "outputs": [],
   "source": [
    "benimListem = [10,20,30,40,50]"
   ]
  },
  {
   "cell_type": "code",
   "execution_count": 3,
   "id": "b4ebe502-c150-40b2-953e-c3a5c3d423d7",
   "metadata": {},
   "outputs": [
    {
     "name": "stdout",
     "output_type": "stream",
     "text": [
      "Listede bulunuyor.\n"
     ]
    }
   ],
   "source": [
    "if 10 in benimListem:\n",
    "    print(\"Listede bulunuyor.\")"
   ]
  },
  {
   "cell_type": "code",
   "execution_count": 4,
   "id": "f02d4e28-24d6-4a47-9fdf-c086b42eaf73",
   "metadata": {},
   "outputs": [
    {
     "data": {
      "text/plain": [
       "16.666666666666668"
      ]
     },
     "execution_count": 4,
     "metadata": {},
     "output_type": "execute_result"
    }
   ],
   "source": [
    "benimListem[0] * 5 / 3"
   ]
  },
  {
   "cell_type": "code",
   "execution_count": 5,
   "id": "9e5ee03d-2ba3-4619-bb7a-cfb059abeaa3",
   "metadata": {},
   "outputs": [
    {
     "data": {
      "text/plain": [
       "33.333333333333336"
      ]
     },
     "execution_count": 5,
     "metadata": {},
     "output_type": "execute_result"
    }
   ],
   "source": [
    "benimListem[1] * 5 / 3"
   ]
  },
  {
   "cell_type": "code",
   "execution_count": 7,
   "id": "fbbb7b1c-f506-4314-8cfb-194e0e6c4731",
   "metadata": {},
   "outputs": [
    {
     "name": "stdout",
     "output_type": "stream",
     "text": [
      "Döngü başladı\n",
      "10\n",
      "20\n",
      "30\n",
      "40\n",
      "50\n",
      "Döngü bitti\n"
     ]
    }
   ],
   "source": [
    "print(\"Döngü başladı\")\n",
    "for numara in benimListem:\n",
    "    print(numara)\n",
    "print(\"Döngü bitti\")"
   ]
  },
  {
   "cell_type": "code",
   "execution_count": 10,
   "id": "1c135b37-e1e3-406f-8d13-b44fc2c330f7",
   "metadata": {},
   "outputs": [
    {
     "name": "stdout",
     "output_type": "stream",
     "text": [
      "Döngü başladı\n",
      "16.666666666666668\n",
      "33.333333333333336\n",
      "50.0\n",
      "66.66666666666667\n",
      "83.33333333333333\n",
      "Döngü bitti\n"
     ]
    }
   ],
   "source": [
    "print(\"Döngü başladı\")\n",
    "for num in benimListem:\n",
    "    print(num * 5 / 3)\n",
    "print(\"Döngü bitti\")"
   ]
  },
  {
   "cell_type": "code",
   "execution_count": 11,
   "id": "4c9c40a8-65c0-4c69-a2e1-718931f66594",
   "metadata": {},
   "outputs": [],
   "source": [
    "yeniListe = [1,2,3,4,5,6]"
   ]
  },
  {
   "cell_type": "code",
   "execution_count": 33,
   "id": "4574b1d6-c82f-4e8f-a962-66b8ae9dbfa2",
   "metadata": {},
   "outputs": [
    {
     "name": "stdout",
     "output_type": "stream",
     "text": [
      "2\n",
      "4\n",
      "6\n",
      "*******\n",
      "1\n",
      "3\n",
      "5\n"
     ]
    }
   ],
   "source": [
    "for rakam in yeniListe:\n",
    "    if rakam % 2 == 0:\n",
    "        print(rakam)\n",
    "print(\"*******\") \n",
    "for rakam in yeniListe:\n",
    "    if rakam % 2 == 1:\n",
    "        print(rakam)\n"
   ]
  },
  {
   "cell_type": "code",
   "execution_count": 36,
   "id": "85b0677a-156a-4769-b5ec-8703b0b9aa23",
   "metadata": {},
   "outputs": [],
   "source": [
    "yeniString = \"Kadir Can Karataş\""
   ]
  },
  {
   "cell_type": "code",
   "execution_count": 37,
   "id": "fa287ee0-579a-45ab-8ae6-a08a85c1fe75",
   "metadata": {},
   "outputs": [
    {
     "name": "stdout",
     "output_type": "stream",
     "text": [
      "K\n",
      "a\n",
      "d\n",
      "i\n",
      "r\n",
      " \n",
      "C\n",
      "a\n",
      "n\n",
      " \n",
      "K\n",
      "a\n",
      "r\n",
      "a\n",
      "t\n",
      "a\n",
      "ş\n"
     ]
    }
   ],
   "source": [
    "for harf in yeniString:\n",
    "    print(harf)"
   ]
  },
  {
   "cell_type": "code",
   "execution_count": 38,
   "id": "745d2f7e-c728-4451-9bc7-778fa994dcae",
   "metadata": {},
   "outputs": [],
   "source": [
    "benimTuple = [1,2,3,4,5]"
   ]
  },
  {
   "cell_type": "code",
   "execution_count": 40,
   "id": "583ed6b6-d245-4f02-87de-c880613d8535",
   "metadata": {},
   "outputs": [
    {
     "name": "stdout",
     "output_type": "stream",
     "text": [
      "-9\n",
      "-8\n",
      "-7\n",
      "-6\n",
      "-5\n"
     ]
    }
   ],
   "source": [
    "for eleman in benimTuple:\n",
    "    print(eleman - 10)"
   ]
  },
  {
   "cell_type": "code",
   "execution_count": 53,
   "id": "13ac65e8-fd92-4e67-98e6-6af7e01f375b",
   "metadata": {},
   "outputs": [],
   "source": [
    "koordinatListesi = [(10.2 , 15.2) , (32.4 , 16.2) , (40.2 , 20.2)]"
   ]
  },
  {
   "cell_type": "code",
   "execution_count": 54,
   "id": "231f53e9-e489-417e-bcac-760ed24e736d",
   "metadata": {},
   "outputs": [
    {
     "data": {
      "text/plain": [
       "list"
      ]
     },
     "execution_count": 54,
     "metadata": {},
     "output_type": "execute_result"
    }
   ],
   "source": [
    "type(koordinatListesi)"
   ]
  },
  {
   "cell_type": "code",
   "execution_count": 55,
   "id": "55cd6ba7-f2bc-4f22-b9de-9c57b14282ed",
   "metadata": {},
   "outputs": [
    {
     "data": {
      "text/plain": [
       "tuple"
      ]
     },
     "execution_count": 55,
     "metadata": {},
     "output_type": "execute_result"
    }
   ],
   "source": [
    "type(koordinatListesi[0])"
   ]
  },
  {
   "cell_type": "code",
   "execution_count": 56,
   "id": "afb3350e-e1ba-4fc2-837a-b8688c33d155",
   "metadata": {},
   "outputs": [
    {
     "name": "stdout",
     "output_type": "stream",
     "text": [
      "(10.2, 15.2)\n",
      "(32.4, 16.2)\n",
      "(40.2, 20.2)\n"
     ]
    }
   ],
   "source": [
    "for eleman in koordinatListesi:\n",
    "    print(eleman)"
   ]
  },
  {
   "cell_type": "code",
   "execution_count": 57,
   "id": "18fad623-1b33-4e94-bad0-8a6ad3a224f1",
   "metadata": {},
   "outputs": [
    {
     "name": "stdout",
     "output_type": "stream",
     "text": [
      "10.2\n",
      "32.4\n",
      "40.2\n"
     ]
    }
   ],
   "source": [
    "for (x,y) in koordinatListesi:\n",
    "    print(x)"
   ]
  },
  {
   "cell_type": "code",
   "execution_count": 58,
   "id": "a5c3e149-1000-48c7-be6c-2a17ad2a1227",
   "metadata": {},
   "outputs": [],
   "source": [
    "benimGaripListem = [(1,2,3) , (4,5,6) , (7,8,9)]"
   ]
  },
  {
   "cell_type": "code",
   "execution_count": 59,
   "id": "8d1b45a7-7da5-4d6a-8ffd-1ec4f68759a4",
   "metadata": {},
   "outputs": [
    {
     "name": "stdout",
     "output_type": "stream",
     "text": [
      "3\n",
      "6\n",
      "9\n"
     ]
    }
   ],
   "source": [
    "for (x,y,z) in benimGaripListem:\n",
    "    print(z)"
   ]
  },
  {
   "cell_type": "code",
   "execution_count": 60,
   "id": "0eeb7ccf-a20b-41b3-9e18-809b41222874",
   "metadata": {},
   "outputs": [],
   "source": [
    "benimSozluk = { \"muz\" : 150, \"portakal\" : 250, \"elma\" : 400}"
   ]
  },
  {
   "cell_type": "code",
   "execution_count": 61,
   "id": "4ccf1779-89a4-4b29-a625-59c0ef1f3d50",
   "metadata": {},
   "outputs": [
    {
     "data": {
      "text/plain": [
       "dict_items([('muz', 150), ('portakal', 250), ('elma', 400)])"
      ]
     },
     "execution_count": 61,
     "metadata": {},
     "output_type": "execute_result"
    }
   ],
   "source": [
    "benimSozluk.items()"
   ]
  },
  {
   "cell_type": "code",
   "execution_count": 62,
   "id": "f405c3e0-0dfa-4426-852d-86b6969d37ac",
   "metadata": {},
   "outputs": [
    {
     "data": {
      "text/plain": [
       "dict_items"
      ]
     },
     "execution_count": 62,
     "metadata": {},
     "output_type": "execute_result"
    }
   ],
   "source": [
    "type(benimSozluk.items())"
   ]
  },
  {
   "cell_type": "code",
   "execution_count": 65,
   "id": "991b8304-ce3c-4742-8108-ae12143e610e",
   "metadata": {},
   "outputs": [
    {
     "name": "stdout",
     "output_type": "stream",
     "text": [
      "muz\n",
      "portakal\n",
      "elma\n"
     ]
    }
   ],
   "source": [
    "for (anahtar,deger) in benimSozluk.items():\n",
    "    print(anahtar)"
   ]
  },
  {
   "cell_type": "code",
   "execution_count": 66,
   "id": "8c177ac5-6934-4839-b74f-f449ae12b24a",
   "metadata": {},
   "outputs": [
    {
     "name": "stdout",
     "output_type": "stream",
     "text": [
      "150\n",
      "250\n",
      "400\n"
     ]
    }
   ],
   "source": [
    "for (anahtar,deger) in benimSozluk.items():\n",
    "    print(deger)"
   ]
  },
  {
   "cell_type": "code",
   "execution_count": null,
   "id": "977a2fcd-2fb6-46a8-b2fb-c24b08ef8c1f",
   "metadata": {},
   "outputs": [],
   "source": []
  }
 ],
 "metadata": {
  "kernelspec": {
   "display_name": "Python [conda env:base] *",
   "language": "python",
   "name": "conda-base-py"
  },
  "language_info": {
   "codemirror_mode": {
    "name": "ipython",
    "version": 3
   },
   "file_extension": ".py",
   "mimetype": "text/x-python",
   "name": "python",
   "nbconvert_exporter": "python",
   "pygments_lexer": "ipython3",
   "version": "3.13.5"
  }
 },
 "nbformat": 4,
 "nbformat_minor": 5
}
