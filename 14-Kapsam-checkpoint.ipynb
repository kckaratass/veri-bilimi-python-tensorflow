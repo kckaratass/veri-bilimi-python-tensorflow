{
 "cells": [
  {
   "cell_type": "markdown",
   "id": "f87f75d7-5980-4c15-a29b-f7ef7763ca34",
   "metadata": {},
   "source": [
    "## scope"
   ]
  },
  {
   "cell_type": "code",
   "execution_count": 1,
   "id": "24df64f8-ae96-4d82-84dc-73e09c672d16",
   "metadata": {},
   "outputs": [],
   "source": [
    "## scope ==> bir ismin (değişken/fonksiyon) hangi alanda görülüp erişilebildiğini belirler. Python isimleri \n",
    "## şu sırayla arar: L-E-G-B\n",
    "## Local ==> İçinde bulunduğun fonksiyonun yereli\n",
    "## Enclosing ==> İç içe fonksiyonlarda dıştaki fonksiyonların yereli\n",
    "## Global ==> Dosya(Modül) düzeyi\n",
    "## Built-in ==> python'un yerlleşik isimleri (len,print,...)"
   ]
  },
  {
   "cell_type": "code",
   "execution_count": 1,
   "id": "b83a91d6-ea72-4369-ad82-15088e922d18",
   "metadata": {},
   "outputs": [],
   "source": [
    "numara = 20\n",
    "\n",
    "def carpma(rakam):\n",
    "    numara = 10\n",
    "    return numara * rakam"
   ]
  },
  {
   "cell_type": "markdown",
   "id": "90921b17-b30a-4af7-a7d0-41631772f813",
   "metadata": {},
   "source": [
    "## Local,Enclosing,Global,Built-In / LEGB Model"
   ]
  },
  {
   "cell_type": "code",
   "execution_count": null,
   "id": "765d01dc-27ca-42e8-8c45-0e0969d4ddb9",
   "metadata": {},
   "outputs": [],
   "source": [
    "#Python bir değişkeni ararken “Local → Enclosing → Global → Built-in” sırasıyla bakar.\n",
    "#Yani “önce kendi evine, sonra ailesine, sonra dünyaya, en son evrenin kurallarına” bakar."
   ]
  },
  {
   "cell_type": "code",
   "execution_count": 4,
   "id": "b31584f3-37a2-4b7a-810c-47f0efe2789a",
   "metadata": {},
   "outputs": [],
   "source": [
    "benimAdim = \"Kadir Can\"\n",
    "#Global\n",
    "\n",
    "def benimFonksiyonum():\n",
    "    benimAdim = \"Ali\"\n",
    "    #Enclosing\n",
    "    def icfonksiyon():\n",
    "        benimAdim = \"Tuğçe\"\n",
    "        #Local\n",
    "        print(benimAdim)\n",
    "    icfonksiyon()"
   ]
  },
  {
   "cell_type": "code",
   "execution_count": 5,
   "id": "ab88502e-86cf-48bc-98a1-a6ab41b04155",
   "metadata": {},
   "outputs": [
    {
     "name": "stdout",
     "output_type": "stream",
     "text": [
      "Tuğçe\n"
     ]
    }
   ],
   "source": [
    "benimFonksiyonum()"
   ]
  },
  {
   "cell_type": "code",
   "execution_count": 6,
   "id": "a4b1dba9-fce9-48d8-89ad-038c75bb33ea",
   "metadata": {},
   "outputs": [
    {
     "data": {
      "text/plain": [
       "'Kadir Can'"
      ]
     },
     "execution_count": 6,
     "metadata": {},
     "output_type": "execute_result"
    }
   ],
   "source": [
    "benimAdim"
   ]
  },
  {
   "cell_type": "code",
   "execution_count": 11,
   "id": "48ee041d-e956-4105-a14c-1a23d3eee06d",
   "metadata": {},
   "outputs": [],
   "source": [
    "y = 10\n",
    "\n",
    "def yeniFonksiyon(y):\n",
    "    print(y)\n",
    "    y = 5\n",
    "    print(y)\n",
    "    return y"
   ]
  },
  {
   "cell_type": "code",
   "execution_count": 12,
   "id": "ed7b8b00-8731-42ec-9e36-021d4bdc91e7",
   "metadata": {},
   "outputs": [
    {
     "name": "stdout",
     "output_type": "stream",
     "text": [
      "3\n",
      "5\n"
     ]
    },
    {
     "data": {
      "text/plain": [
       "5"
      ]
     },
     "execution_count": 12,
     "metadata": {},
     "output_type": "execute_result"
    }
   ],
   "source": [
    "yeniFonksiyon(3)"
   ]
  },
  {
   "cell_type": "code",
   "execution_count": 13,
   "id": "75164dd5-2fdc-413d-b850-91169634d801",
   "metadata": {},
   "outputs": [
    {
     "data": {
      "text/plain": [
       "10"
      ]
     },
     "execution_count": 13,
     "metadata": {},
     "output_type": "execute_result"
    }
   ],
   "source": [
    "y"
   ]
  },
  {
   "cell_type": "code",
   "execution_count": 14,
   "id": "b1906833-b3b2-4f56-91b3-f5adda1ecdf4",
   "metadata": {},
   "outputs": [
    {
     "name": "stdout",
     "output_type": "stream",
     "text": [
      "3\n",
      "5\n"
     ]
    }
   ],
   "source": [
    "y = yeniFonksiyon(3)"
   ]
  },
  {
   "cell_type": "code",
   "execution_count": 15,
   "id": "86d30a90-4f8e-4d5e-a68e-fb6eda5d2199",
   "metadata": {},
   "outputs": [
    {
     "data": {
      "text/plain": [
       "5"
      ]
     },
     "execution_count": 15,
     "metadata": {},
     "output_type": "execute_result"
    }
   ],
   "source": [
    "y"
   ]
  },
  {
   "cell_type": "code",
   "execution_count": 16,
   "id": "f752c5db-9df3-4f65-9dfc-6a22650089ab",
   "metadata": {},
   "outputs": [],
   "source": [
    "y = 10\n",
    "\n",
    "def ornekFonksiyon():\n",
    "    global y\n",
    "    y = 5\n",
    "    print(y)"
   ]
  },
  {
   "cell_type": "code",
   "execution_count": 17,
   "id": "97bed549-882f-4bad-a10b-40acf8ff0a1b",
   "metadata": {},
   "outputs": [
    {
     "name": "stdout",
     "output_type": "stream",
     "text": [
      "5\n"
     ]
    }
   ],
   "source": [
    "ornekFonksiyon()"
   ]
  },
  {
   "cell_type": "code",
   "execution_count": 18,
   "id": "ceb0b3ea-5a51-4207-8d19-7f872b5389f3",
   "metadata": {},
   "outputs": [
    {
     "data": {
      "text/plain": [
       "5"
      ]
     },
     "execution_count": 18,
     "metadata": {},
     "output_type": "execute_result"
    }
   ],
   "source": [
    "y"
   ]
  },
  {
   "cell_type": "code",
   "execution_count": null,
   "id": "b4bb6971-ab9e-4e80-9694-e3bf1a431cdb",
   "metadata": {},
   "outputs": [],
   "source": []
  }
 ],
 "metadata": {
  "kernelspec": {
   "display_name": "Python [conda env:base] *",
   "language": "python",
   "name": "conda-base-py"
  },
  "language_info": {
   "codemirror_mode": {
    "name": "ipython",
    "version": 3
   },
   "file_extension": ".py",
   "mimetype": "text/x-python",
   "name": "python",
   "nbconvert_exporter": "python",
   "pygments_lexer": "ipython3",
   "version": "3.13.5"
  }
 },
 "nbformat": 4,
 "nbformat_minor": 5
}
