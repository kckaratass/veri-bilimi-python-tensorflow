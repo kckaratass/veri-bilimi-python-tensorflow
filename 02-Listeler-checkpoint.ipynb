{
 "cells": [
  {
   "cell_type": "markdown",
   "id": "1410ae6d-8b7c-43bc-b640-9537e6630c34",
   "metadata": {
    "jp-MarkdownHeadingCollapsed": true
   },
   "source": [
    "## Listelere Giriş"
   ]
  },
  {
   "cell_type": "code",
   "execution_count": 1,
   "id": "a43567b7-b1d2-4e07-ace5-cf50e113925c",
   "metadata": {},
   "outputs": [],
   "source": [
    "benimString = \"Kadir Can Karataş\""
   ]
  },
  {
   "cell_type": "code",
   "execution_count": 2,
   "id": "803a62e5-9b24-4ba6-8b11-778b0ee28997",
   "metadata": {},
   "outputs": [
    {
     "data": {
      "text/plain": [
       "'i'"
      ]
     },
     "execution_count": 2,
     "metadata": {},
     "output_type": "execute_result"
    }
   ],
   "source": [
    "benimString[3]"
   ]
  },
  {
   "cell_type": "code",
   "execution_count": 3,
   "id": "8931a68f-158f-42d7-a2f2-7ab8a6ed83d9",
   "metadata": {},
   "outputs": [],
   "source": [
    "# immutability & mutable (Değiştirilemez & Değiştirilebilir)"
   ]
  },
  {
   "cell_type": "code",
   "execution_count": 5,
   "id": "119a8fea-61d8-47ed-a02b-b51ab6bafb2d",
   "metadata": {},
   "outputs": [],
   "source": [
    "# benimString[0] = \"B\""
   ]
  },
  {
   "cell_type": "code",
   "execution_count": 6,
   "id": "90d35d24-7a34-44dc-8552-a22e268e7aaf",
   "metadata": {},
   "outputs": [],
   "source": [
    "benimListem = [10,20,30,40]"
   ]
  },
  {
   "cell_type": "code",
   "execution_count": 7,
   "id": "94d7671b-e420-4e8a-811e-e51b2c160ed7",
   "metadata": {},
   "outputs": [
    {
     "data": {
      "text/plain": [
       "list"
      ]
     },
     "execution_count": 7,
     "metadata": {},
     "output_type": "execute_result"
    }
   ],
   "source": [
    "type(benimListem)"
   ]
  },
  {
   "cell_type": "code",
   "execution_count": 9,
   "id": "e0426abe-f809-4259-94e0-484120d7eaec",
   "metadata": {},
   "outputs": [],
   "source": [
    "benimNumaram = 10\n",
    "benimDigerNumaram = 20"
   ]
  },
  {
   "cell_type": "code",
   "execution_count": 17,
   "id": "406c41b6-6927-4772-8f55-e09375d37d8e",
   "metadata": {},
   "outputs": [],
   "source": [
    "benimNumaraListem = [benimNumaram,benimDigerNumaram]"
   ]
  },
  {
   "cell_type": "code",
   "execution_count": 18,
   "id": "34b7a7f4-a14a-45c4-ab08-f84c8cff6901",
   "metadata": {},
   "outputs": [
    {
     "data": {
      "text/plain": [
       "10"
      ]
     },
     "execution_count": 18,
     "metadata": {},
     "output_type": "execute_result"
    }
   ],
   "source": [
    "benimListem[0]"
   ]
  },
  {
   "cell_type": "code",
   "execution_count": 19,
   "id": "46c6f3e6-9760-49d8-81b4-39faaa68e992",
   "metadata": {},
   "outputs": [
    {
     "data": {
      "text/plain": [
       "10"
      ]
     },
     "execution_count": 19,
     "metadata": {},
     "output_type": "execute_result"
    }
   ],
   "source": [
    "benimNumaraListem[0] "
   ]
  },
  {
   "cell_type": "code",
   "execution_count": 20,
   "id": "eaf6dce9-d38a-45f2-96a2-09cd915190ec",
   "metadata": {},
   "outputs": [
    {
     "data": {
      "text/plain": [
       "[10, 20, 30, 40]"
      ]
     },
     "execution_count": 20,
     "metadata": {},
     "output_type": "execute_result"
    }
   ],
   "source": [
    "benimListem"
   ]
  },
  {
   "cell_type": "code",
   "execution_count": 21,
   "id": "f5892f95-8640-420e-870d-2b2f4c78174d",
   "metadata": {},
   "outputs": [],
   "source": [
    "benimListem[0] = 100"
   ]
  },
  {
   "cell_type": "code",
   "execution_count": 23,
   "id": "1e3f6117-1177-4b92-a924-8d9489d71478",
   "metadata": {},
   "outputs": [
    {
     "data": {
      "text/plain": [
       "[100, 20, 30, 40]"
      ]
     },
     "execution_count": 23,
     "metadata": {},
     "output_type": "execute_result"
    }
   ],
   "source": [
    "benimListem"
   ]
  },
  {
   "cell_type": "code",
   "execution_count": 24,
   "id": "0c5740bd-087e-45cc-9e42-7f794da2ed52",
   "metadata": {},
   "outputs": [],
   "source": [
    "benimListem.append(50)"
   ]
  },
  {
   "cell_type": "code",
   "execution_count": 25,
   "id": "5970ba36-56f6-440a-a412-410baf9158d0",
   "metadata": {},
   "outputs": [
    {
     "data": {
      "text/plain": [
       "[100, 20, 30, 40, 50]"
      ]
     },
     "execution_count": 25,
     "metadata": {},
     "output_type": "execute_result"
    }
   ],
   "source": [
    "benimListem"
   ]
  },
  {
   "cell_type": "markdown",
   "id": "f179a4a0-bbc2-4999-bc94-14e6b9f55891",
   "metadata": {
    "jp-MarkdownHeadingCollapsed": true
   },
   "source": [
    "## Liste Metotları"
   ]
  },
  {
   "cell_type": "code",
   "execution_count": 26,
   "id": "18fd4cc6-7d1a-49b9-ab08-40c039d8fde9",
   "metadata": {},
   "outputs": [
    {
     "data": {
      "text/plain": [
       "50"
      ]
     },
     "execution_count": 26,
     "metadata": {},
     "output_type": "execute_result"
    }
   ],
   "source": [
    "benimListem.pop()"
   ]
  },
  {
   "cell_type": "code",
   "execution_count": 27,
   "id": "b96425c2-dc7d-4ff1-a3c7-41c14cd00e42",
   "metadata": {},
   "outputs": [
    {
     "data": {
      "text/plain": [
       "[100, 20, 30, 40]"
      ]
     },
     "execution_count": 27,
     "metadata": {},
     "output_type": "execute_result"
    }
   ],
   "source": [
    "benimListem"
   ]
  },
  {
   "cell_type": "code",
   "execution_count": 29,
   "id": "5d2bd743-ecf4-4f0e-b5e6-711f70a33711",
   "metadata": {},
   "outputs": [],
   "source": [
    "benimListem.remove(40)"
   ]
  },
  {
   "cell_type": "code",
   "execution_count": 30,
   "id": "54cb34c7-ad37-4e13-8fa8-a8c07012d4b2",
   "metadata": {},
   "outputs": [
    {
     "data": {
      "text/plain": [
       "[100, 20, 30]"
      ]
     },
     "execution_count": 30,
     "metadata": {},
     "output_type": "execute_result"
    }
   ],
   "source": [
    "benimListem"
   ]
  },
  {
   "cell_type": "code",
   "execution_count": 31,
   "id": "236fdafe-91b3-46a3-ab64-bd7264a099ec",
   "metadata": {},
   "outputs": [
    {
     "data": {
      "text/plain": [
       "1"
      ]
     },
     "execution_count": 31,
     "metadata": {},
     "output_type": "execute_result"
    }
   ],
   "source": [
    "benimListem.count(20)"
   ]
  },
  {
   "cell_type": "code",
   "execution_count": 32,
   "id": "0226a0a2-d906-410a-b18f-360d3891b21d",
   "metadata": {},
   "outputs": [],
   "source": [
    "benimListem.append(20)"
   ]
  },
  {
   "cell_type": "code",
   "execution_count": 33,
   "id": "f7d0ef9a-8a81-4073-a4be-259e49209c18",
   "metadata": {},
   "outputs": [
    {
     "data": {
      "text/plain": [
       "2"
      ]
     },
     "execution_count": 33,
     "metadata": {},
     "output_type": "execute_result"
    }
   ],
   "source": [
    "benimListem.count(20)"
   ]
  },
  {
   "cell_type": "code",
   "execution_count": 34,
   "id": "43e0cd90-e018-4358-82d4-8865eaedb6b3",
   "metadata": {},
   "outputs": [],
   "source": [
    "benimStringListem = [\"Kadir\",\"Ali\",\"Nevin\",\"Tuğçe\"]"
   ]
  },
  {
   "cell_type": "code",
   "execution_count": 40,
   "id": "cf0c9149-916d-4653-aa37-03d185d9cd5e",
   "metadata": {},
   "outputs": [],
   "source": [
    "benimDigerListem = [\"Mehmet\",\"Mahmut\",\"Atlas\",\"Can\"]"
   ]
  },
  {
   "cell_type": "code",
   "execution_count": 41,
   "id": "460bae8f-a8ba-4c97-a14c-adfa046fd383",
   "metadata": {},
   "outputs": [
    {
     "data": {
      "text/plain": [
       "'Mehmet'"
      ]
     },
     "execution_count": 41,
     "metadata": {},
     "output_type": "execute_result"
    }
   ],
   "source": [
    "benimDigerListem[0]"
   ]
  },
  {
   "cell_type": "code",
   "execution_count": 42,
   "id": "59d91d85-ed23-4d7e-8103-e17d3f67b67b",
   "metadata": {},
   "outputs": [],
   "source": [
    "benimToplamaListem = benimStringListem + benimDiğerListem"
   ]
  },
  {
   "cell_type": "code",
   "execution_count": 43,
   "id": "f54b2ab4-f31f-4831-95b3-166760f2c004",
   "metadata": {},
   "outputs": [
    {
     "data": {
      "text/plain": [
       "['Kadir', 'Can', 'Ali', 'Nevin', 'Tuğçe', 'Mehmet', 'Mahmut', 'Atlas', 'Can']"
      ]
     },
     "execution_count": 43,
     "metadata": {},
     "output_type": "execute_result"
    }
   ],
   "source": [
    "benimToplamaListem"
   ]
  },
  {
   "cell_type": "code",
   "execution_count": 44,
   "id": "c13c81f3-e477-4a4a-9de3-4331730f6a68",
   "metadata": {},
   "outputs": [
    {
     "data": {
      "text/plain": [
       "['Kadir',\n",
       " 'Can',\n",
       " 'Ali',\n",
       " 'Nevin',\n",
       " 'Tuğçe',\n",
       " 'Kadir',\n",
       " 'Can',\n",
       " 'Ali',\n",
       " 'Nevin',\n",
       " 'Tuğçe',\n",
       " 'Kadir',\n",
       " 'Can',\n",
       " 'Ali',\n",
       " 'Nevin',\n",
       " 'Tuğçe',\n",
       " 'Kadir',\n",
       " 'Can',\n",
       " 'Ali',\n",
       " 'Nevin',\n",
       " 'Tuğçe',\n",
       " 'Kadir',\n",
       " 'Can',\n",
       " 'Ali',\n",
       " 'Nevin',\n",
       " 'Tuğçe']"
      ]
     },
     "execution_count": 44,
     "metadata": {},
     "output_type": "execute_result"
    }
   ],
   "source": [
    "benimStringListem * 5"
   ]
  },
  {
   "cell_type": "code",
   "execution_count": 45,
   "id": "b84a07b0-4b10-448c-b331-087f6cce4385",
   "metadata": {},
   "outputs": [
    {
     "data": {
      "text/plain": [
       "['Kadir', 'Can', 'Ali', 'Nevin', 'Tuğçe', 'Mehmet', 'Mahmut', 'Atlas', 'Can']"
      ]
     },
     "execution_count": 45,
     "metadata": {},
     "output_type": "execute_result"
    }
   ],
   "source": [
    "benimToplamaListem"
   ]
  },
  {
   "cell_type": "code",
   "execution_count": 46,
   "id": "ccac6fa8-8097-44fe-9292-40d959e02e28",
   "metadata": {},
   "outputs": [],
   "source": [
    "benimToplamaListem.reverse()"
   ]
  },
  {
   "cell_type": "code",
   "execution_count": 47,
   "id": "b4106abc-e1e9-40da-8209-9e7691a5b181",
   "metadata": {},
   "outputs": [
    {
     "data": {
      "text/plain": [
       "['Can', 'Atlas', 'Mahmut', 'Mehmet', 'Tuğçe', 'Nevin', 'Ali', 'Can', 'Kadir']"
      ]
     },
     "execution_count": 47,
     "metadata": {},
     "output_type": "execute_result"
    }
   ],
   "source": [
    "benimToplamaListem"
   ]
  },
  {
   "cell_type": "markdown",
   "id": "b6d327e2-925f-4f28-bbab-365de481f081",
   "metadata": {},
   "source": [
    "## Listeler İleri Seviye"
   ]
  },
  {
   "cell_type": "code",
   "execution_count": 48,
   "id": "057a6943-92b1-45d5-b129-52e3dd293a70",
   "metadata": {},
   "outputs": [],
   "source": [
    "karisikListe = [1,2,3.5,\"kadir can\",9]"
   ]
  },
  {
   "cell_type": "code",
   "execution_count": 49,
   "id": "44f5faae-400c-404b-9838-4333b8f65c8b",
   "metadata": {},
   "outputs": [
    {
     "data": {
      "text/plain": [
       "list"
      ]
     },
     "execution_count": 49,
     "metadata": {},
     "output_type": "execute_result"
    }
   ],
   "source": [
    "type(karisikListe)"
   ]
  },
  {
   "cell_type": "code",
   "execution_count": 57,
   "id": "f2083444-fb41-4c67-924f-60942454917a",
   "metadata": {},
   "outputs": [
    {
     "data": {
      "text/plain": [
       "'kadir can'"
      ]
     },
     "execution_count": 57,
     "metadata": {},
     "output_type": "execute_result"
    }
   ],
   "source": [
    "sonucum = karisikListe[3]\n",
    "karisikListe[3]"
   ]
  },
  {
   "cell_type": "code",
   "execution_count": 60,
   "id": "a1885cc1-331c-4183-aa5f-447868258b0b",
   "metadata": {},
   "outputs": [
    {
     "data": {
      "text/plain": [
       "str"
      ]
     },
     "execution_count": 60,
     "metadata": {},
     "output_type": "execute_result"
    }
   ],
   "source": [
    "type(sonucum)"
   ]
  },
  {
   "cell_type": "code",
   "execution_count": 64,
   "id": "b0516096-53be-4d80-8e2b-9d2fb97fb70f",
   "metadata": {},
   "outputs": [],
   "source": [
    "nestedList = [1,5,\"kadir\",4,[6,\"z\"]] ## iç içe listelere nestedList denir."
   ]
  },
  {
   "cell_type": "code",
   "execution_count": 69,
   "id": "9d06b922-ec51-4830-95fe-0ed4afc87468",
   "metadata": {},
   "outputs": [
    {
     "data": {
      "text/plain": [
       "list"
      ]
     },
     "execution_count": 69,
     "metadata": {},
     "output_type": "execute_result"
    }
   ],
   "source": [
    "type(nestedList[4])"
   ]
  },
  {
   "cell_type": "code",
   "execution_count": 74,
   "id": "982d4907-f0bb-463a-b25a-734f9910920d",
   "metadata": {},
   "outputs": [],
   "source": [
    "degiskenim = nestedList[4][1]"
   ]
  },
  {
   "cell_type": "code",
   "execution_count": 75,
   "id": "06e8362f-7b5b-4612-963d-88b22bd8194d",
   "metadata": {},
   "outputs": [
    {
     "data": {
      "text/plain": [
       "'z'"
      ]
     },
     "execution_count": 75,
     "metadata": {},
     "output_type": "execute_result"
    }
   ],
   "source": [
    "degiskenim"
   ]
  },
  {
   "cell_type": "code",
   "execution_count": 77,
   "id": "3fb62573-e2e0-475d-848f-9e15cb4d0659",
   "metadata": {},
   "outputs": [],
   "source": [
    "karmasikListe = [[1,2,3,[\"a\",\"b\"],50],40,20,[\"z\",5.5],[3,[\"a\"]]]"
   ]
  },
  {
   "cell_type": "code",
   "execution_count": 88,
   "id": "d10d8315-9af1-4a42-9c4e-88e5bde43993",
   "metadata": {},
   "outputs": [
    {
     "data": {
      "text/plain": [
       "'b'"
      ]
     },
     "execution_count": 88,
     "metadata": {},
     "output_type": "execute_result"
    }
   ],
   "source": [
    "karmasikListe[0][3][1]"
   ]
  },
  {
   "cell_type": "code",
   "execution_count": 91,
   "id": "34da0824-dc09-4639-a969-d9eee3ad57ae",
   "metadata": {},
   "outputs": [
    {
     "data": {
      "text/plain": [
       "[1, 5]"
      ]
     },
     "execution_count": 91,
     "metadata": {},
     "output_type": "execute_result"
    }
   ],
   "source": [
    "nestedList[:2]"
   ]
  },
  {
   "cell_type": "code",
   "execution_count": null,
   "id": "4bd43a3b-1291-415b-bff8-f570628a20d7",
   "metadata": {},
   "outputs": [],
   "source": []
  }
 ],
 "metadata": {
  "kernelspec": {
   "display_name": "Python [conda env:base] *",
   "language": "python",
   "name": "conda-base-py"
  },
  "language_info": {
   "codemirror_mode": {
    "name": "ipython",
    "version": 3
   },
   "file_extension": ".py",
   "mimetype": "text/x-python",
   "name": "python",
   "nbconvert_exporter": "python",
   "pygments_lexer": "ipython3",
   "version": "3.13.5"
  }
 },
 "nbformat": 4,
 "nbformat_minor": 5
}
