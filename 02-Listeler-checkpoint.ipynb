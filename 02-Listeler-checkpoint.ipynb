{
 "cells": [
  {
   "cell_type": "markdown",
   "id": "1410ae6d-8b7c-43bc-b640-9537e6630c34",
   "metadata": {},
   "source": [
    "## Listelere Giriş"
   ]
  },
  {
   "cell_type": "code",
   "execution_count": 1,
   "id": "a43567b7-b1d2-4e07-ace5-cf50e113925c",
   "metadata": {},
   "outputs": [],
   "source": [
    "benimString = \"Kadir Can Karataş\""
   ]
  },
  {
   "cell_type": "code",
   "execution_count": 2,
   "id": "803a62e5-9b24-4ba6-8b11-778b0ee28997",
   "metadata": {},
   "outputs": [
    {
     "data": {
      "text/plain": [
       "'i'"
      ]
     },
     "execution_count": 2,
     "metadata": {},
     "output_type": "execute_result"
    }
   ],
   "source": [
    "benimString[3]"
   ]
  },
  {
   "cell_type": "code",
   "execution_count": 3,
   "id": "8931a68f-158f-42d7-a2f2-7ab8a6ed83d9",
   "metadata": {},
   "outputs": [],
   "source": [
    "# immutability & mutable (Değiştirilemez & Değiştirilebilir)"
   ]
  },
  {
   "cell_type": "code",
   "execution_count": 5,
   "id": "119a8fea-61d8-47ed-a02b-b51ab6bafb2d",
   "metadata": {},
   "outputs": [],
   "source": [
    "# benimString[0] = \"B\""
   ]
  },
  {
   "cell_type": "code",
   "execution_count": 6,
   "id": "90d35d24-7a34-44dc-8552-a22e268e7aaf",
   "metadata": {},
   "outputs": [],
   "source": [
    "benimListem = [10,20,30,40]"
   ]
  },
  {
   "cell_type": "code",
   "execution_count": 7,
   "id": "94d7671b-e420-4e8a-811e-e51b2c160ed7",
   "metadata": {},
   "outputs": [
    {
     "data": {
      "text/plain": [
       "list"
      ]
     },
     "execution_count": 7,
     "metadata": {},
     "output_type": "execute_result"
    }
   ],
   "source": [
    "type(benimListem)"
   ]
  },
  {
   "cell_type": "code",
   "execution_count": 9,
   "id": "e0426abe-f809-4259-94e0-484120d7eaec",
   "metadata": {},
   "outputs": [],
   "source": [
    "benimNumaram = 10\n",
    "benimDigerNumaram = 20"
   ]
  },
  {
   "cell_type": "code",
   "execution_count": 17,
   "id": "406c41b6-6927-4772-8f55-e09375d37d8e",
   "metadata": {},
   "outputs": [],
   "source": [
    "benimNumaraListem = [benimNumaram,benimDigerNumaram]"
   ]
  },
  {
   "cell_type": "code",
   "execution_count": 18,
   "id": "34b7a7f4-a14a-45c4-ab08-f84c8cff6901",
   "metadata": {},
   "outputs": [
    {
     "data": {
      "text/plain": [
       "10"
      ]
     },
     "execution_count": 18,
     "metadata": {},
     "output_type": "execute_result"
    }
   ],
   "source": [
    "benimListem[0]"
   ]
  },
  {
   "cell_type": "code",
   "execution_count": 19,
   "id": "46c6f3e6-9760-49d8-81b4-39faaa68e992",
   "metadata": {},
   "outputs": [
    {
     "data": {
      "text/plain": [
       "10"
      ]
     },
     "execution_count": 19,
     "metadata": {},
     "output_type": "execute_result"
    }
   ],
   "source": [
    "benimNumaraListem[0] "
   ]
  },
  {
   "cell_type": "code",
   "execution_count": 20,
   "id": "eaf6dce9-d38a-45f2-96a2-09cd915190ec",
   "metadata": {},
   "outputs": [
    {
     "data": {
      "text/plain": [
       "[10, 20, 30, 40]"
      ]
     },
     "execution_count": 20,
     "metadata": {},
     "output_type": "execute_result"
    }
   ],
   "source": [
    "benimListem"
   ]
  },
  {
   "cell_type": "code",
   "execution_count": 21,
   "id": "f5892f95-8640-420e-870d-2b2f4c78174d",
   "metadata": {},
   "outputs": [],
   "source": [
    "benimListem[0] = 100"
   ]
  },
  {
   "cell_type": "code",
   "execution_count": 23,
   "id": "1e3f6117-1177-4b92-a924-8d9489d71478",
   "metadata": {},
   "outputs": [
    {
     "data": {
      "text/plain": [
       "[100, 20, 30, 40]"
      ]
     },
     "execution_count": 23,
     "metadata": {},
     "output_type": "execute_result"
    }
   ],
   "source": [
    "benimListem"
   ]
  },
  {
   "cell_type": "code",
   "execution_count": 24,
   "id": "0c5740bd-087e-45cc-9e42-7f794da2ed52",
   "metadata": {},
   "outputs": [],
   "source": [
    "benimListem.append(50)"
   ]
  },
  {
   "cell_type": "code",
   "execution_count": 25,
   "id": "5970ba36-56f6-440a-a412-410baf9158d0",
   "metadata": {},
   "outputs": [
    {
     "data": {
      "text/plain": [
       "[100, 20, 30, 40, 50]"
      ]
     },
     "execution_count": 25,
     "metadata": {},
     "output_type": "execute_result"
    }
   ],
   "source": [
    "benimListem"
   ]
  },
  {
   "cell_type": "code",
   "execution_count": null,
   "id": "29a9e8ff-eb9c-41af-80bb-3433329e2744",
   "metadata": {},
   "outputs": [],
   "source": []
  }
 ],
 "metadata": {
  "kernelspec": {
   "display_name": "Python [conda env:base] *",
   "language": "python",
   "name": "conda-base-py"
  },
  "language_info": {
   "codemirror_mode": {
    "name": "ipython",
    "version": 3
   },
   "file_extension": ".py",
   "mimetype": "text/x-python",
   "name": "python",
   "nbconvert_exporter": "python",
   "pygments_lexer": "ipython3",
   "version": "3.13.5"
  }
 },
 "nbformat": 4,
 "nbformat_minor": 5
}
