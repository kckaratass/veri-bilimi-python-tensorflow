{
 "cells": [
  {
   "cell_type": "markdown",
   "id": "3541fd05-8431-455e-ae87-e8fb8f83b96f",
   "metadata": {},
   "source": [
    "## Set"
   ]
  },
  {
   "cell_type": "code",
   "execution_count": 8,
   "id": "5566bd07-9f48-466c-986c-e72b62689247",
   "metadata": {},
   "outputs": [],
   "source": [
    "## Set ==> Pythonda'da tekrarlayan (duplicate) elemanları saklamayan ve sırasız bir veri yapısıdır."
   ]
  },
  {
   "cell_type": "code",
   "execution_count": 9,
   "id": "f3173de8-0122-4cd1-a01d-4c1cb6ce3c93",
   "metadata": {},
   "outputs": [],
   "source": [
    "benimListem = [1,2,3,1,2,3]"
   ]
  },
  {
   "cell_type": "code",
   "execution_count": 10,
   "id": "ff8b95a6-2805-41ca-9cdc-73d9f12e138b",
   "metadata": {},
   "outputs": [
    {
     "data": {
      "text/plain": [
       "[1, 2, 3, 1, 2, 3]"
      ]
     },
     "execution_count": 10,
     "metadata": {},
     "output_type": "execute_result"
    }
   ],
   "source": [
    "benimListem"
   ]
  },
  {
   "cell_type": "code",
   "execution_count": 11,
   "id": "47d8c9f8-84a7-46ed-85ce-ab8ed4feaf43",
   "metadata": {},
   "outputs": [],
   "source": [
    "benimListeSetim = set(benimListem)"
   ]
  },
  {
   "cell_type": "code",
   "execution_count": 12,
   "id": "62b4973a-bec7-46d5-b653-600544ec9919",
   "metadata": {},
   "outputs": [
    {
     "data": {
      "text/plain": [
       "list"
      ]
     },
     "execution_count": 12,
     "metadata": {},
     "output_type": "execute_result"
    }
   ],
   "source": [
    "type(benimListem)"
   ]
  },
  {
   "cell_type": "code",
   "execution_count": 13,
   "id": "c2ac8886-c05f-4ebf-b8b3-6874a2902e8e",
   "metadata": {},
   "outputs": [
    {
     "data": {
      "text/plain": [
       "set"
      ]
     },
     "execution_count": 13,
     "metadata": {},
     "output_type": "execute_result"
    }
   ],
   "source": [
    "type(benimListeSetim)"
   ]
  },
  {
   "cell_type": "code",
   "execution_count": 14,
   "id": "6bac083a-5d1e-4f5f-8b10-a51f16d92694",
   "metadata": {},
   "outputs": [
    {
     "data": {
      "text/plain": [
       "{1, 2, 3}"
      ]
     },
     "execution_count": 14,
     "metadata": {},
     "output_type": "execute_result"
    }
   ],
   "source": [
    "benimListeSetim"
   ]
  },
  {
   "cell_type": "code",
   "execution_count": 15,
   "id": "7e526371-46d9-46b8-ba51-b72a50c67e07",
   "metadata": {},
   "outputs": [],
   "source": [
    "benimSet = {\"a\",\"b\",\"c\",\"a\"}"
   ]
  },
  {
   "cell_type": "code",
   "execution_count": 16,
   "id": "fa1c43d5-eec2-4d29-b230-fe5e30bcd102",
   "metadata": {},
   "outputs": [
    {
     "data": {
      "text/plain": [
       "set"
      ]
     },
     "execution_count": 16,
     "metadata": {},
     "output_type": "execute_result"
    }
   ],
   "source": [
    "type(benimSet)"
   ]
  },
  {
   "cell_type": "code",
   "execution_count": 17,
   "id": "b5edca4a-f7a3-4023-8055-8b96ec013880",
   "metadata": {},
   "outputs": [
    {
     "data": {
      "text/plain": [
       "{'a', 'b', 'c'}"
      ]
     },
     "execution_count": 17,
     "metadata": {},
     "output_type": "execute_result"
    }
   ],
   "source": [
    "benimSet"
   ]
  },
  {
   "cell_type": "code",
   "execution_count": 18,
   "id": "3bff4f27-0a7f-460d-8d4f-78ed21fcefdc",
   "metadata": {},
   "outputs": [],
   "source": [
    "bosListe = []"
   ]
  },
  {
   "cell_type": "code",
   "execution_count": 19,
   "id": "3ec4dc3f-4cb4-4639-a2cb-78fd96aafbc4",
   "metadata": {},
   "outputs": [
    {
     "data": {
      "text/plain": [
       "list"
      ]
     },
     "execution_count": 19,
     "metadata": {},
     "output_type": "execute_result"
    }
   ],
   "source": [
    "type(bosListe)"
   ]
  },
  {
   "cell_type": "code",
   "execution_count": 20,
   "id": "6931b357-c0e2-4d80-98e3-0dd09faefca5",
   "metadata": {},
   "outputs": [
    {
     "data": {
      "text/plain": [
       "[]"
      ]
     },
     "execution_count": 20,
     "metadata": {},
     "output_type": "execute_result"
    }
   ],
   "source": [
    "bosListe"
   ]
  },
  {
   "cell_type": "code",
   "execution_count": 21,
   "id": "0d705d90-36df-4213-aa11-b572499c33a8",
   "metadata": {},
   "outputs": [],
   "source": [
    "bosListe.append(1)"
   ]
  },
  {
   "cell_type": "code",
   "execution_count": 23,
   "id": "ee3f6fd5-ba38-4c45-b506-9f4c555fef8e",
   "metadata": {},
   "outputs": [
    {
     "data": {
      "text/plain": [
       "[1]"
      ]
     },
     "execution_count": 23,
     "metadata": {},
     "output_type": "execute_result"
    }
   ],
   "source": [
    "bosListe"
   ]
  },
  {
   "cell_type": "code",
   "execution_count": 27,
   "id": "f02b08c1-9cf5-48b0-a51a-834521e4dcee",
   "metadata": {},
   "outputs": [],
   "source": [
    "bosSozluk = {}"
   ]
  },
  {
   "cell_type": "code",
   "execution_count": 28,
   "id": "bb9dc152-b374-4114-bd67-6e013987559b",
   "metadata": {},
   "outputs": [
    {
     "data": {
      "text/plain": [
       "dict"
      ]
     },
     "execution_count": 28,
     "metadata": {},
     "output_type": "execute_result"
    }
   ],
   "source": [
    "type(bosSozluk)"
   ]
  },
  {
   "cell_type": "code",
   "execution_count": 29,
   "id": "9692be89-258b-4724-9de5-efe5ccbed38b",
   "metadata": {},
   "outputs": [],
   "source": [
    "bosSozluk[\"anahtarKelime\"] = 10"
   ]
  },
  {
   "cell_type": "code",
   "execution_count": 30,
   "id": "2f5e29c7-ae66-4546-a069-3e79328fbbff",
   "metadata": {},
   "outputs": [
    {
     "data": {
      "text/plain": [
       "{'anahtarKelime': 10}"
      ]
     },
     "execution_count": 30,
     "metadata": {},
     "output_type": "execute_result"
    }
   ],
   "source": [
    "bosSozluk"
   ]
  },
  {
   "cell_type": "code",
   "execution_count": 31,
   "id": "1972edb8-7041-49d6-959f-b1d905ffbbb7",
   "metadata": {},
   "outputs": [],
   "source": [
    "benimBosSetim = set()"
   ]
  },
  {
   "cell_type": "code",
   "execution_count": 32,
   "id": "05f2f05b-3378-4032-89e7-15df13d4c6d2",
   "metadata": {},
   "outputs": [
    {
     "data": {
      "text/plain": [
       "set()"
      ]
     },
     "execution_count": 32,
     "metadata": {},
     "output_type": "execute_result"
    }
   ],
   "source": [
    "benimBosSetim"
   ]
  },
  {
   "cell_type": "code",
   "execution_count": 33,
   "id": "a852e6c9-aa3f-4a3e-ba75-cf807edafd54",
   "metadata": {},
   "outputs": [],
   "source": [
    "benimBosSetim.add(10)"
   ]
  },
  {
   "cell_type": "code",
   "execution_count": 35,
   "id": "8a414ae6-ab48-453c-80b5-16a2103dec6a",
   "metadata": {},
   "outputs": [],
   "source": [
    "benimBosSetim.add(10)"
   ]
  },
  {
   "cell_type": "code",
   "execution_count": 36,
   "id": "bbc8a33b-59c4-4ac0-8f37-f94fb988f102",
   "metadata": {},
   "outputs": [],
   "source": [
    "benimBosSetim.add(20)"
   ]
  },
  {
   "cell_type": "code",
   "execution_count": 37,
   "id": "260c9413-4b53-493b-97c9-619b4c69b03c",
   "metadata": {},
   "outputs": [
    {
     "data": {
      "text/plain": [
       "{10, 20}"
      ]
     },
     "execution_count": 37,
     "metadata": {},
     "output_type": "execute_result"
    }
   ],
   "source": [
    "benimBosSetim"
   ]
  },
  {
   "cell_type": "code",
   "execution_count": 38,
   "id": "f1300deb-74fb-401e-9608-5b3a074bfc4a",
   "metadata": {},
   "outputs": [],
   "source": [
    "benimBosListem = list()"
   ]
  },
  {
   "cell_type": "code",
   "execution_count": 39,
   "id": "37f6eac2-56f7-4484-8d07-221732c00e19",
   "metadata": {},
   "outputs": [
    {
     "data": {
      "text/plain": [
       "[]"
      ]
     },
     "execution_count": 39,
     "metadata": {},
     "output_type": "execute_result"
    }
   ],
   "source": [
    "benimBosListem"
   ]
  },
  {
   "cell_type": "code",
   "execution_count": 40,
   "id": "97f6ca05-611c-41e8-bff5-03cef3c8e4f3",
   "metadata": {},
   "outputs": [],
   "source": [
    "benimBosListem.append(10)"
   ]
  },
  {
   "cell_type": "code",
   "execution_count": 41,
   "id": "017ee3c1-e144-461d-88c2-1ff4f8043e93",
   "metadata": {},
   "outputs": [
    {
     "data": {
      "text/plain": [
       "[10]"
      ]
     },
     "execution_count": 41,
     "metadata": {},
     "output_type": "execute_result"
    }
   ],
   "source": [
    "benimBosListem"
   ]
  },
  {
   "cell_type": "code",
   "execution_count": 42,
   "id": "cc124185-021c-4678-8a89-57fe9b6c8482",
   "metadata": {},
   "outputs": [],
   "source": [
    "benimBosSozlugum = dict()"
   ]
  },
  {
   "cell_type": "code",
   "execution_count": 43,
   "id": "da2ce424-6471-4490-aee5-323a2c165e3b",
   "metadata": {},
   "outputs": [],
   "source": [
    "benimBosSozlugum[\"Key\"] = 3224"
   ]
  },
  {
   "cell_type": "code",
   "execution_count": 44,
   "id": "f4e9f6bb-5e3f-4c92-a3f4-570879c38b41",
   "metadata": {},
   "outputs": [
    {
     "data": {
      "text/plain": [
       "{'Key': 3224}"
      ]
     },
     "execution_count": 44,
     "metadata": {},
     "output_type": "execute_result"
    }
   ],
   "source": [
    "benimBosSozlugum"
   ]
  },
  {
   "cell_type": "code",
   "execution_count": null,
   "id": "35ff31ea-1a87-4e16-be2c-d36786f09cec",
   "metadata": {},
   "outputs": [],
   "source": []
  }
 ],
 "metadata": {
  "kernelspec": {
   "display_name": "Python [conda env:base] *",
   "language": "python",
   "name": "conda-base-py"
  },
  "language_info": {
   "codemirror_mode": {
    "name": "ipython",
    "version": 3
   },
   "file_extension": ".py",
   "mimetype": "text/x-python",
   "name": "python",
   "nbconvert_exporter": "python",
   "pygments_lexer": "ipython3",
   "version": "3.13.5"
  }
 },
 "nbformat": 4,
 "nbformat_minor": 5
}
