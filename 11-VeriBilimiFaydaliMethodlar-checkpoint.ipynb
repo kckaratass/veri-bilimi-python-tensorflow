{
 "cells": [
  {
   "cell_type": "code",
   "execution_count": 1,
   "id": "8402837f-d46d-4732-9de3-3eaef221b831",
   "metadata": {},
   "outputs": [],
   "source": [
    "benimListem = [0,1,2,3,4,5,6]"
   ]
  },
  {
   "cell_type": "code",
   "execution_count": 2,
   "id": "9b0f4655-9d9e-4118-930e-23a6ef4320d9",
   "metadata": {},
   "outputs": [
    {
     "name": "stdout",
     "output_type": "stream",
     "text": [
      "0\n",
      "1\n",
      "2\n",
      "3\n",
      "4\n",
      "5\n",
      "6\n"
     ]
    }
   ],
   "source": [
    "for numara in benimListem:\n",
    "    print(numara)"
   ]
  },
  {
   "cell_type": "markdown",
   "id": "c80b40a3-f364-4b44-9341-9b89e47afb1b",
   "metadata": {},
   "source": [
    "## range"
   ]
  },
  {
   "cell_type": "code",
   "execution_count": 3,
   "id": "e59cf8ff-18e9-4dd3-9bfe-fe9b756729c4",
   "metadata": {},
   "outputs": [],
   "source": [
    "## range ==> python da bir sayı aralığı oluşturmak için kullanılır. Ama bu aralık liste gibi görünür yani tek tek sayıları üretir "
   ]
  },
  {
   "cell_type": "code",
   "execution_count": 4,
   "id": "aaa9c864-9539-47f2-90a6-d12a98ca1400",
   "metadata": {},
   "outputs": [
    {
     "data": {
      "text/plain": [
       "range(0, 15)"
      ]
     },
     "execution_count": 4,
     "metadata": {},
     "output_type": "execute_result"
    }
   ],
   "source": [
    "range(15)"
   ]
  },
  {
   "cell_type": "code",
   "execution_count": 6,
   "id": "dfdacb05-d48c-4365-af06-3aad85faee7e",
   "metadata": {},
   "outputs": [
    {
     "data": {
      "text/plain": [
       "[0, 1, 2, 3, 4, 5, 6, 7, 8, 9, 10, 11, 12, 13, 14, 15, 16, 17, 18, 19]"
      ]
     },
     "execution_count": 6,
     "metadata": {},
     "output_type": "execute_result"
    }
   ],
   "source": [
    "list(range(20))"
   ]
  },
  {
   "cell_type": "code",
   "execution_count": 9,
   "id": "295c3f0a-76c3-4b9b-a7b1-8bf4ab027740",
   "metadata": {},
   "outputs": [
    {
     "name": "stdout",
     "output_type": "stream",
     "text": [
      "İşlem sonunda çıktıların değerleri :  0\n",
      "İşlem sonunda çıktıların değerleri :  5\n",
      "İşlem sonunda çıktıların değerleri :  10\n",
      "İşlem sonunda çıktıların değerleri :  15\n",
      "İşlem sonunda çıktıların değerleri :  20\n",
      "İşlem sonunda çıktıların değerleri :  25\n",
      "İşlem sonunda çıktıların değerleri :  30\n",
      "İşlem sonunda çıktıların değerleri :  35\n",
      "İşlem sonunda çıktıların değerleri :  40\n",
      "İşlem sonunda çıktıların değerleri :  45\n",
      "İşlem sonunda çıktıların değerleri :  50\n",
      "İşlem sonunda çıktıların değerleri :  55\n",
      "İşlem sonunda çıktıların değerleri :  60\n",
      "İşlem sonunda çıktıların değerleri :  65\n",
      "İşlem sonunda çıktıların değerleri :  70\n"
     ]
    }
   ],
   "source": [
    "for numara in list(range(15)):\n",
    "    print(\"İşlem sonunda çıktıların değerleri : \",numara * 5)"
   ]
  },
  {
   "cell_type": "code",
   "execution_count": 11,
   "id": "31a0c9a7-4f96-45a5-90e6-8adfbb761654",
   "metadata": {},
   "outputs": [
    {
     "data": {
      "text/plain": [
       "[5, 9, 13, 17]"
      ]
     },
     "execution_count": 11,
     "metadata": {},
     "output_type": "execute_result"
    }
   ],
   "source": [
    "list(range(5,21,4)) ## range alabildiğer parametreler (5 = başlangıç , 21 = bitiş , 4 = atlama) "
   ]
  },
  {
   "cell_type": "markdown",
   "id": "8f461494-4c94-4f35-9480-a9bbc5ab862e",
   "metadata": {},
   "source": [
    "## enumerate"
   ]
  },
  {
   "cell_type": "code",
   "execution_count": 12,
   "id": "00b727c3-7080-4bc3-b951-16721d64f2ed",
   "metadata": {},
   "outputs": [],
   "source": [
    "## enumerate ==> bir liste(veyaz başka dizilebilir bir şey) üzerinde dönerken hem sırasını(index) hem de değerini \n",
    "## aynı anda almanı sağlar"
   ]
  },
  {
   "cell_type": "code",
   "execution_count": 13,
   "id": "28da6129-e5fe-46a5-af1e-db4695fe22f6",
   "metadata": {},
   "outputs": [
    {
     "name": "stdout",
     "output_type": "stream",
     "text": [
      "Güncel değer : 5 Güncel index : 0\n",
      "Güncel değer : 6 Güncel index : 1\n",
      "Güncel değer : 7 Güncel index : 2\n",
      "Güncel değer : 8 Güncel index : 3\n",
      "Güncel değer : 9 Güncel index : 4\n",
      "Güncel değer : 10 Güncel index : 5\n",
      "Güncel değer : 11 Güncel index : 6\n",
      "Güncel değer : 12 Güncel index : 7\n",
      "Güncel değer : 13 Güncel index : 8\n",
      "Güncel değer : 14 Güncel index : 9\n"
     ]
    }
   ],
   "source": [
    "index = 0\n",
    "for numara in list(range(5,15)):\n",
    "    print(f\"Güncel değer : {numara} Güncel index : {index}\")\n",
    "    index = index + 1"
   ]
  },
  {
   "cell_type": "code",
   "execution_count": 16,
   "id": "ce5946dc-86e5-4922-bb8a-7732b89370fc",
   "metadata": {},
   "outputs": [
    {
     "name": "stdout",
     "output_type": "stream",
     "text": [
      "(0, 5)\n",
      "(1, 6)\n",
      "(2, 7)\n",
      "(3, 8)\n",
      "(4, 9)\n",
      "(5, 10)\n",
      "(6, 11)\n",
      "(7, 12)\n",
      "(8, 13)\n",
      "(9, 14)\n"
     ]
    }
   ],
   "source": [
    "for eleman in enumerate(list(range(5,15))):\n",
    "    print(eleman)"
   ]
  },
  {
   "cell_type": "code",
   "execution_count": 18,
   "id": "479b7a4d-a168-440e-9320-86ce377931ac",
   "metadata": {},
   "outputs": [
    {
     "name": "stdout",
     "output_type": "stream",
     "text": [
      "5\n",
      "6\n",
      "7\n",
      "8\n",
      "9\n",
      "10\n",
      "11\n",
      "12\n",
      "13\n",
      "14\n"
     ]
    }
   ],
   "source": [
    "for (index,numara) in enumerate(list(range(5,15))):\n",
    "    print(numara)"
   ]
  },
  {
   "cell_type": "code",
   "execution_count": null,
   "id": "88310b53-941d-4b94-a104-2c823c28b994",
   "metadata": {},
   "outputs": [],
   "source": []
  }
 ],
 "metadata": {
  "kernelspec": {
   "display_name": "Python [conda env:base] *",
   "language": "python",
   "name": "conda-base-py"
  },
  "language_info": {
   "codemirror_mode": {
    "name": "ipython",
    "version": 3
   },
   "file_extension": ".py",
   "mimetype": "text/x-python",
   "name": "python",
   "nbconvert_exporter": "python",
   "pygments_lexer": "ipython3",
   "version": "3.13.5"
  }
 },
 "nbformat": 4,
 "nbformat_minor": 5
}
