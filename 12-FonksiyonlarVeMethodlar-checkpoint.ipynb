{
 "cells": [
  {
   "cell_type": "markdown",
   "id": "522469c7-40f1-4fec-a8e2-9f835e7a34ad",
   "metadata": {},
   "source": [
    "## Fonksiyonlar"
   ]
  },
  {
   "cell_type": "code",
   "execution_count": 1,
   "id": "ddabbf42-08c1-4f5a-9b8a-859deb318406",
   "metadata": {},
   "outputs": [],
   "source": [
    "benimAdim = \"Kadir Can Karataş\""
   ]
  },
  {
   "cell_type": "code",
   "execution_count": 2,
   "id": "7099bff1-930e-4326-93bc-69d799e9b0b1",
   "metadata": {},
   "outputs": [
    {
     "data": {
      "text/plain": [
       "'KADIR CAN KARATAŞ'"
      ]
     },
     "execution_count": 2,
     "metadata": {},
     "output_type": "execute_result"
    }
   ],
   "source": [
    "benimAdim.upper()"
   ]
  },
  {
   "cell_type": "code",
   "execution_count": 3,
   "id": "1d1d3acf-b2a0-4c92-8361-75fcf07a9a55",
   "metadata": {},
   "outputs": [
    {
     "data": {
      "text/plain": [
       "'Kadir Can Karataş'"
      ]
     },
     "execution_count": 3,
     "metadata": {},
     "output_type": "execute_result"
    }
   ],
   "source": [
    "benimAdim"
   ]
  },
  {
   "cell_type": "code",
   "execution_count": 4,
   "id": "ed578b30-e433-452b-b30a-becd8363eff4",
   "metadata": {},
   "outputs": [],
   "source": [
    "benimAdimBuyukHarfli = benimAdim.upper()"
   ]
  },
  {
   "cell_type": "code",
   "execution_count": 5,
   "id": "f8a1b27c-95cf-4e9f-bbf7-64212016d5db",
   "metadata": {},
   "outputs": [
    {
     "data": {
      "text/plain": [
       "'KADIR CAN KARATAŞ'"
      ]
     },
     "execution_count": 5,
     "metadata": {},
     "output_type": "execute_result"
    }
   ],
   "source": [
    "benimAdimBuyukHarfli"
   ]
  },
  {
   "cell_type": "code",
   "execution_count": 6,
   "id": "c3e26028-0407-463d-8993-912948781cd9",
   "metadata": {},
   "outputs": [
    {
     "name": "stdout",
     "output_type": "stream",
     "text": [
      "Help on built-in function upper:\n",
      "\n",
      "upper() method of builtins.str instance\n",
      "    Return a copy of the string converted to uppercase.\n",
      "\n"
     ]
    }
   ],
   "source": [
    "help(benimAdim.upper)"
   ]
  },
  {
   "cell_type": "code",
   "execution_count": 7,
   "id": "8f3fb2d4-6270-4605-8f5b-d0e0eb6d4fb4",
   "metadata": {},
   "outputs": [],
   "source": [
    "def firstFunction():\n",
    "    print(\"İlk fonksiyonum\")"
   ]
  },
  {
   "cell_type": "code",
   "execution_count": 8,
   "id": "ed93148d-1a60-4d75-9b88-9bbc17e520ff",
   "metadata": {},
   "outputs": [
    {
     "name": "stdout",
     "output_type": "stream",
     "text": [
      "İlk fonksiyonum\n"
     ]
    }
   ],
   "source": [
    "firstFunction()"
   ]
  },
  {
   "cell_type": "markdown",
   "id": "3cb24615-cd2c-4e7a-a0e7-dcdc5e9b3a4f",
   "metadata": {},
   "source": [
    "## input & return"
   ]
  },
  {
   "cell_type": "code",
   "execution_count": 9,
   "id": "3c2b4e5c-d07c-43cb-b289-30be754ab2d8",
   "metadata": {},
   "outputs": [],
   "source": [
    "def merhabaDunya():\n",
    "    print(\"merhaba\")"
   ]
  },
  {
   "cell_type": "code",
   "execution_count": 11,
   "id": "65529ce0-525e-4358-be6c-99a4abd4ab9e",
   "metadata": {},
   "outputs": [
    {
     "name": "stdout",
     "output_type": "stream",
     "text": [
      "merhaba\n"
     ]
    }
   ],
   "source": [
    "merhabaDunya()"
   ]
  },
  {
   "cell_type": "code",
   "execution_count": 15,
   "id": "6951d070-f073-4b3c-91d2-4f565af27ede",
   "metadata": {},
   "outputs": [],
   "source": [
    "def merhabaDunya(yazdirilacakIsim):\n",
    "    print(\"Merhaba\")\n",
    "    print(yazdirilacakIsim)"
   ]
  },
  {
   "cell_type": "code",
   "execution_count": 16,
   "id": "ee655dbe-6dab-4fa9-b70f-37a6ed1108e3",
   "metadata": {},
   "outputs": [
    {
     "name": "stdout",
     "output_type": "stream",
     "text": [
      "Merhaba\n",
      "Kadir\n"
     ]
    }
   ],
   "source": [
    "merhabaDunya(\"Kadir\")"
   ]
  },
  {
   "cell_type": "code",
   "execution_count": 17,
   "id": "41826826-c877-4dc8-b7f8-575a43354e89",
   "metadata": {},
   "outputs": [
    {
     "name": "stdout",
     "output_type": "stream",
     "text": [
      "Merhaba\n",
      "python\n"
     ]
    }
   ],
   "source": [
    "merhabaDunya(\"python\")"
   ]
  },
  {
   "cell_type": "code",
   "execution_count": 1,
   "id": "013cff2b-5e7d-454b-a7c9-0bedcda90ced",
   "metadata": {},
   "outputs": [],
   "source": [
    "def merhaba(isim = \"Kadir Can\"):\n",
    "    print(\"merhaba\")\n",
    "    print(isim)"
   ]
  },
  {
   "cell_type": "code",
   "execution_count": 2,
   "id": "a6b33e6f-a277-44a4-976e-91bd737cf2f6",
   "metadata": {},
   "outputs": [
    {
     "name": "stdout",
     "output_type": "stream",
     "text": [
      "merhaba\n",
      "Kadir Can\n"
     ]
    }
   ],
   "source": [
    "merhaba()"
   ]
  },
  {
   "cell_type": "code",
   "execution_count": 4,
   "id": "33301f51-e2c9-41fb-9561-1aec8aac7c69",
   "metadata": {},
   "outputs": [
    {
     "name": "stdout",
     "output_type": "stream",
     "text": [
      "merhaba\n",
      "deniz\n"
     ]
    }
   ],
   "source": [
    "merhaba(\"deniz\")"
   ]
  },
  {
   "cell_type": "code",
   "execution_count": 7,
   "id": "aa4e91c4-ea8a-4d59-99e5-67d744786ab6",
   "metadata": {},
   "outputs": [],
   "source": [
    "def toplama(numara1,numara2):\n",
    "    sonuc = numara1 + numara2\n",
    "    print(sonuc)"
   ]
  },
  {
   "cell_type": "code",
   "execution_count": 8,
   "id": "723ee312-0c9f-4396-bc3e-bca05068f318",
   "metadata": {},
   "outputs": [
    {
     "name": "stdout",
     "output_type": "stream",
     "text": [
      "10\n"
     ]
    }
   ],
   "source": [
    "toplama(4,6)"
   ]
  },
  {
   "cell_type": "code",
   "execution_count": 9,
   "id": "c912db5b-4ac5-46ad-85d8-0987b6758cab",
   "metadata": {},
   "outputs": [],
   "source": [
    "def superToplama(num1,num2,num3):\n",
    "    print(num1 + num2 + num3)"
   ]
  },
  {
   "cell_type": "code",
   "execution_count": 10,
   "id": "a7ca0cb0-72a5-4d4a-a3dd-830d2a0707a2",
   "metadata": {},
   "outputs": [
    {
     "name": "stdout",
     "output_type": "stream",
     "text": [
      "89\n"
     ]
    }
   ],
   "source": [
    "superToplama(6,5,78)"
   ]
  },
  {
   "cell_type": "code",
   "execution_count": 11,
   "id": "1bfb7e99-d832-4e21-b472-4af1f9e5b768",
   "metadata": {},
   "outputs": [
    {
     "name": "stdout",
     "output_type": "stream",
     "text": [
      "30\n"
     ]
    }
   ],
   "source": [
    "yeniDegisken = toplama(10,20)"
   ]
  },
  {
   "cell_type": "code",
   "execution_count": 12,
   "id": "2127ea93-42e4-487c-8565-1c8c6f985c88",
   "metadata": {},
   "outputs": [],
   "source": [
    "yeniDegisken"
   ]
  },
  {
   "cell_type": "code",
   "execution_count": 13,
   "id": "0ec90531-3522-41c8-82f6-6f570f73e436",
   "metadata": {},
   "outputs": [
    {
     "name": "stdout",
     "output_type": "stream",
     "text": [
      "None\n"
     ]
    }
   ],
   "source": [
    "print(yeniDegisken)"
   ]
  },
  {
   "cell_type": "code",
   "execution_count": 14,
   "id": "885ad481-2535-4e40-8584-e9ec0f2c4608",
   "metadata": {},
   "outputs": [
    {
     "data": {
      "text/plain": [
       "NoneType"
      ]
     },
     "execution_count": 14,
     "metadata": {},
     "output_type": "execute_result"
    }
   ],
   "source": [
    "type(yeniDegisken)"
   ]
  },
  {
   "cell_type": "code",
   "execution_count": 15,
   "id": "58474e3c-697e-4759-a9a2-6775b593d8d3",
   "metadata": {},
   "outputs": [],
   "source": [
    "def dondurmeliToplama(num1, num2):\n",
    "    return num1 + num2"
   ]
  },
  {
   "cell_type": "code",
   "execution_count": 18,
   "id": "f81e93b3-8503-4ee8-8e44-f3ef116020c4",
   "metadata": {},
   "outputs": [],
   "source": [
    "yeniSonuc = dondurmeliToplama(10,20)"
   ]
  },
  {
   "cell_type": "code",
   "execution_count": 19,
   "id": "4f132c43-e120-4942-999a-0ba55f859b24",
   "metadata": {},
   "outputs": [
    {
     "data": {
      "text/plain": [
       "30"
      ]
     },
     "execution_count": 19,
     "metadata": {},
     "output_type": "execute_result"
    }
   ],
   "source": [
    "yeniSonuc"
   ]
  },
  {
   "cell_type": "code",
   "execution_count": 20,
   "id": "520da9e1-a8f6-4f3a-a29b-6e9bbc73b653",
   "metadata": {},
   "outputs": [
    {
     "data": {
      "text/plain": [
       "int"
      ]
     },
     "execution_count": 20,
     "metadata": {},
     "output_type": "execute_result"
    }
   ],
   "source": [
    "type(yeniSonuc)"
   ]
  },
  {
   "cell_type": "code",
   "execution_count": 21,
   "id": "caf60856-266a-4b4b-a22a-413de3ddf098",
   "metadata": {},
   "outputs": [],
   "source": [
    "def kontrolFonksiyson(s):\n",
    "    if s == \"kadir\":\n",
    "        print(\"verdiğiniz string kadir\")\n",
    "    else:\n",
    "        print(\"verdiğiniz string başka bir şey\")"
   ]
  },
  {
   "cell_type": "code",
   "execution_count": 22,
   "id": "1d23b71c-ba39-4f35-8272-8033cf76c64b",
   "metadata": {},
   "outputs": [
    {
     "name": "stdout",
     "output_type": "stream",
     "text": [
      "verdiğiniz string kadir\n"
     ]
    }
   ],
   "source": [
    "kontrolFonksiyon(\"kadir\")"
   ]
  },
  {
   "cell_type": "code",
   "execution_count": 23,
   "id": "ff3b7162-26cc-4383-9444-9b273447e196",
   "metadata": {},
   "outputs": [
    {
     "name": "stdout",
     "output_type": "stream",
     "text": [
      "verdiğiniz string başka bir şey\n"
     ]
    }
   ],
   "source": [
    "kontrolFonksiyon(\"atıl\")"
   ]
  },
  {
   "cell_type": "markdown",
   "id": "cd55de9a-4e79-42d4-bc4c-2fbaeba18ad6",
   "metadata": {},
   "source": [
    "## args ve kwargs "
   ]
  },
  {
   "cell_type": "code",
   "execution_count": 24,
   "id": "faca95c8-18f4-4244-9082-ea5ea71b325f",
   "metadata": {},
   "outputs": [],
   "source": [
    "## args ==> fonsiyona istenen sayıda isim verilmemiş (positional) argüman almaya yarar. Fonksiyon içinde bir tuple olarak gelir.\n",
    "## kwargs ==> fonksiyona istenen sayıda \"isim verilmiş\" (keyword) argüman almaya yarar. fonsiyon içinde bir dict(sözlük) olarak gelir."
   ]
  },
  {
   "cell_type": "code",
   "execution_count": 27,
   "id": "55b10e9d-dc3b-4f84-95aa-4d94a4f96820",
   "metadata": {},
   "outputs": [],
   "source": [
    "def yeniToplama(*args):\n",
    "    return sum(args)"
   ]
  },
  {
   "cell_type": "code",
   "execution_count": 28,
   "id": "dd48cd46-5d28-42b1-a897-e7b0a1e97128",
   "metadata": {},
   "outputs": [
    {
     "data": {
      "text/plain": [
       "150"
      ]
     },
     "execution_count": 28,
     "metadata": {},
     "output_type": "execute_result"
    }
   ],
   "source": [
    "yeniToplama(10,20,30,40,50)"
   ]
  },
  {
   "cell_type": "code",
   "execution_count": 29,
   "id": "e0563bce-4171-461b-a7ed-5f5c731dd2db",
   "metadata": {},
   "outputs": [
    {
     "data": {
      "text/plain": [
       "30"
      ]
     },
     "execution_count": 29,
     "metadata": {},
     "output_type": "execute_result"
    }
   ],
   "source": [
    "yeniToplama(10,20)"
   ]
  },
  {
   "cell_type": "code",
   "execution_count": 30,
   "id": "d37264e4-af01-4939-9b3e-1c82f8f6341a",
   "metadata": {},
   "outputs": [],
   "source": [
    "def benimFonksiyonum(*args):\n",
    "    print(args)"
   ]
  },
  {
   "cell_type": "code",
   "execution_count": 32,
   "id": "bd73ca19-e5ca-44d4-b7c1-a0a35b2afa65",
   "metadata": {},
   "outputs": [
    {
     "name": "stdout",
     "output_type": "stream",
     "text": [
      "(20, 30, 40)\n"
     ]
    }
   ],
   "source": [
    "benimFonksiyonum(20,30,40)"
   ]
  },
  {
   "cell_type": "code",
   "execution_count": 33,
   "id": "fc8d77aa-b498-4440-ae85-26570d754a16",
   "metadata": {},
   "outputs": [
    {
     "name": "stdout",
     "output_type": "stream",
     "text": [
      "()\n"
     ]
    },
    {
     "data": {
      "text/plain": [
       "NoneType"
      ]
     },
     "execution_count": 33,
     "metadata": {},
     "output_type": "execute_result"
    }
   ],
   "source": [
    "type(benimFonksiyonum())"
   ]
  },
  {
   "cell_type": "code",
   "execution_count": 34,
   "id": "1606af27-9a0b-4bbc-8b04-2e60ec3220b4",
   "metadata": {},
   "outputs": [
    {
     "name": "stdout",
     "output_type": "stream",
     "text": [
      "(20, 30, 40)\n"
     ]
    },
    {
     "data": {
      "text/plain": [
       "NoneType"
      ]
     },
     "execution_count": 34,
     "metadata": {},
     "output_type": "execute_result"
    }
   ],
   "source": [
    "type(benimFonksiyonum(20,30,40))"
   ]
  },
  {
   "cell_type": "code",
   "execution_count": 35,
   "id": "a0d9566d-acb6-41ab-967d-9fcc8138925b",
   "metadata": {},
   "outputs": [],
   "source": [
    "def benimFonksiyonum(*args):\n",
    "    return args"
   ]
  },
  {
   "cell_type": "code",
   "execution_count": 36,
   "id": "cbc5b1a7-2117-4a10-b448-b07d6c273b45",
   "metadata": {},
   "outputs": [
    {
     "data": {
      "text/plain": [
       "(20, 30, 40)"
      ]
     },
     "execution_count": 36,
     "metadata": {},
     "output_type": "execute_result"
    }
   ],
   "source": [
    "benimFonksiyonum(20,30,40)"
   ]
  },
  {
   "cell_type": "code",
   "execution_count": 38,
   "id": "66b91c5e-68bd-4e78-bc04-ed7b164929c0",
   "metadata": {},
   "outputs": [
    {
     "data": {
      "text/plain": [
       "tuple"
      ]
     },
     "execution_count": 38,
     "metadata": {},
     "output_type": "execute_result"
    }
   ],
   "source": [
    "type(benimFonksiyonum())"
   ]
  },
  {
   "cell_type": "code",
   "execution_count": 39,
   "id": "919b023d-a4ec-4f12-92b5-8235ddfb1278",
   "metadata": {},
   "outputs": [],
   "source": [
    "def ornekFonksiyon(**kwargs):\n",
    "    print(kwargs)"
   ]
  },
  {
   "cell_type": "code",
   "execution_count": 40,
   "id": "400737bf-76bc-4c3f-b261-3360e6b64ad6",
   "metadata": {},
   "outputs": [
    {
     "name": "stdout",
     "output_type": "stream",
     "text": [
      "{'muz': 100, 'elma': 200, 'ananas': 300}\n"
     ]
    }
   ],
   "source": [
    "ornekFonksiyon(muz = 100, elma = 200, ananas = 300)"
   ]
  },
  {
   "cell_type": "code",
   "execution_count": 41,
   "id": "31e47dbb-c702-45fe-8e11-0a25484138a6",
   "metadata": {},
   "outputs": [
    {
     "name": "stdout",
     "output_type": "stream",
     "text": [
      "{'muz': 100, 'elma': 200, 'ananas': 300}\n"
     ]
    },
    {
     "data": {
      "text/plain": [
       "NoneType"
      ]
     },
     "execution_count": 41,
     "metadata": {},
     "output_type": "execute_result"
    }
   ],
   "source": [
    "type(ornekFonksiyon(muz = 100, elma = 200, ananas = 300))"
   ]
  },
  {
   "cell_type": "code",
   "execution_count": 44,
   "id": "b7f0e199-7e45-4eb0-b0c7-775d33fa767e",
   "metadata": {},
   "outputs": [],
   "source": [
    "def ornekFonksiyon(**kwargs):\n",
    "    return kwargs"
   ]
  },
  {
   "cell_type": "code",
   "execution_count": 46,
   "id": "eba51bec-f2ce-439e-abc7-edb94055978e",
   "metadata": {},
   "outputs": [
    {
     "data": {
      "text/plain": [
       "{'muz': 100, 'elma': 200, 'ananas': 300}"
      ]
     },
     "execution_count": 46,
     "metadata": {},
     "output_type": "execute_result"
    }
   ],
   "source": [
    "ornekFonksiyon(muz = 100 , elma = 200 , ananas = 300)"
   ]
  },
  {
   "cell_type": "code",
   "execution_count": 47,
   "id": "babf7b61-bab5-4899-9481-a7c564f67438",
   "metadata": {},
   "outputs": [
    {
     "data": {
      "text/plain": [
       "dict"
      ]
     },
     "execution_count": 47,
     "metadata": {},
     "output_type": "execute_result"
    }
   ],
   "source": [
    "type(ornekFonksiyon())"
   ]
  },
  {
   "cell_type": "code",
   "execution_count": 49,
   "id": "1af50709-cab0-4666-8a02-f281f2122abd",
   "metadata": {},
   "outputs": [],
   "source": [
    "def keyWordKontrolu(**kwargs):\n",
    "    if \"kadir\" in kwargs:\n",
    "        print(\"kadir var\")\n",
    "    else:\n",
    "        print(\"kadir yok\")"
   ]
  },
  {
   "cell_type": "code",
   "execution_count": 50,
   "id": "e86964a6-0eb2-4963-9606-449c51fd0403",
   "metadata": {},
   "outputs": [
    {
     "name": "stdout",
     "output_type": "stream",
     "text": [
      "kadir var\n"
     ]
    }
   ],
   "source": [
    "keyWordKontrolu(kadir = 22, Ali = 57, Nevin = 48)"
   ]
  },
  {
   "cell_type": "code",
   "execution_count": 53,
   "id": "5a55043a-8309-486e-afc5-328c02a0cb84",
   "metadata": {},
   "outputs": [
    {
     "name": "stdout",
     "output_type": "stream",
     "text": [
      "kadir yok\n"
     ]
    }
   ],
   "source": [
    "keyWordKontrolu(Kadir = 22, Ali = 57, Nevin = 48)"
   ]
  },
  {
   "cell_type": "code",
   "execution_count": null,
   "id": "0786163e-ca03-487c-9ef0-a613cdd7ee1a",
   "metadata": {},
   "outputs": [],
   "source": []
  }
 ],
 "metadata": {
  "kernelspec": {
   "display_name": "Python [conda env:base] *",
   "language": "python",
   "name": "conda-base-py"
  },
  "language_info": {
   "codemirror_mode": {
    "name": "ipython",
    "version": 3
   },
   "file_extension": ".py",
   "mimetype": "text/x-python",
   "name": "python",
   "nbconvert_exporter": "python",
   "pygments_lexer": "ipython3",
   "version": "3.13.5"
  }
 },
 "nbformat": 4,
 "nbformat_minor": 5
}
