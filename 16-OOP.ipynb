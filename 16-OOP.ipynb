{
 "cells": [
  {
   "cell_type": "markdown",
   "id": "9d1e6880-2584-4395-a8ed-f3bd8a2b34c7",
   "metadata": {},
   "source": [
    "## Object Orianted Programming - OOP"
   ]
  },
  {
   "cell_type": "code",
   "execution_count": 1,
   "id": "7ce8179e-01de-417f-8169-e3caa689b77a",
   "metadata": {},
   "outputs": [],
   "source": [
    "## Nesne Yönelimli Programlama (OOP), yazılımı gerçek hayattaki nesneler gibi düşünen bir programlama yaklaşımıdır.\n",
    "## Bu yaklaşımda her şey bir nesne (object) olarak tasarlanır ve bu nesnelerin özellikleri (property) ile\n",
    "## davranışları (method) bir arada bulunur."
   ]
  },
  {
   "cell_type": "code",
   "execution_count": 2,
   "id": "e7bf2bc4-de93-4186-8211-a7a787c2dd2e",
   "metadata": {},
   "outputs": [],
   "source": [
    "## Amaç: \n",
    "## Kodun daha düzenli, yeniden kullanılabilir ve bakımı kolay hale gelmesini sağlamaktır.\n",
    "## Yani OOP, karmaşık programları küçük, anlamlı parçalara (nesnelere) bölerek yönetmeyi kolaylaştırır."
   ]
  },
  {
   "cell_type": "code",
   "execution_count": 3,
   "id": "4579013b-5c5f-45fa-b24a-b8e13619c8a7",
   "metadata": {},
   "outputs": [],
   "source": [
    "## 4 Temel İlkesi:\n",
    "\n",
    "## Encapsulation (Kapsülleme): Veriyi koruma ve dış erişimi kontrol etme.\n",
    "\n",
    "## Inheritance (Kalıtım): Ortak özellikleri miras alarak kod tekrarını azaltma.\n",
    "\n",
    "## Polymorphism (Çok Biçimlilik): Aynı işlemi farklı biçimlerde yapabilme.\n",
    "\n",
    "## Abstraction (Soyutlama): Gereksiz detayları gizleyip sadece gerekli kısmı gösterme."
   ]
  },
  {
   "cell_type": "code",
   "execution_count": 5,
   "id": "e6bf51ad-901c-4cc4-8e0f-2e3e413e1552",
   "metadata": {},
   "outputs": [],
   "source": [
    "benimListem = list()"
   ]
  },
  {
   "cell_type": "code",
   "execution_count": 6,
   "id": "adcdbe3b-97a0-4059-bba6-8974b56e3b72",
   "metadata": {},
   "outputs": [
    {
     "data": {
      "text/plain": [
       "list"
      ]
     },
     "execution_count": 6,
     "metadata": {},
     "output_type": "execute_result"
    }
   ],
   "source": [
    "type(benimListem)"
   ]
  },
  {
   "cell_type": "markdown",
   "id": "5fb86de4-fe87-4615-b659-9763d2c2e0d6",
   "metadata": {},
   "source": [
    "## instance & attribute"
   ]
  },
  {
   "cell_type": "code",
   "execution_count": 8,
   "id": "03383aa0-5202-4ffe-861a-00952c5fd0ba",
   "metadata": {},
   "outputs": [],
   "source": [
    "## instance(örnek) ==> Bir sınıftan oluşturulan nesnedir."
   ]
  },
  {
   "cell_type": "code",
   "execution_count": 9,
   "id": "cec84bc3-1737-4adc-a77f-1a97299a4952",
   "metadata": {},
   "outputs": [],
   "source": [
    "## attribute(özellik) ==> Bir nesnenin taşıdığı veridir. "
   ]
  },
  {
   "cell_type": "code",
   "execution_count": 10,
   "id": "d3406ca1-6169-416a-abe8-ca1b3b7e985f",
   "metadata": {},
   "outputs": [],
   "source": [
    "superKahramanAdi = \"Superman\"\n",
    "superKahramanYasi = 30\n",
    "superKahramanMeslegi = \"Gazeteci\""
   ]
  },
  {
   "cell_type": "code",
   "execution_count": 11,
   "id": "cbe3c378-695d-4023-914b-96587ee86e13",
   "metadata": {},
   "outputs": [],
   "source": [
    "ikinciSuperKahramanAdi = \"Batman\""
   ]
  },
  {
   "cell_type": "code",
   "execution_count": 27,
   "id": "2ae60e1b-b75e-40c5-9a2b-03f4c5ca611d",
   "metadata": {},
   "outputs": [],
   "source": [
    "class SuperKahraman():\n",
    "    ozelGuc = \"Görünmezlik\"\n",
    "    \n",
    "    def __init__(self,isimInput,yasInput,meslekInput):\n",
    "        print(\"init çağırıldı.\")\n",
    "        self.isim = isimInput\n",
    "        self.yas = yasInput\n",
    "        self.meslek = meslekInput\n",
    "\n",
    "    def ornekMethod(self):\n",
    "        print(f\"Ben süper kahramanım ve mesleğim: {self.meslek}\")"
   ]
  },
  {
   "cell_type": "code",
   "execution_count": 28,
   "id": "45cc3355-778c-4c47-a3a1-0d8407940c6b",
   "metadata": {},
   "outputs": [
    {
     "name": "stdout",
     "output_type": "stream",
     "text": [
      "init çağırıldı.\n"
     ]
    }
   ],
   "source": [
    "superman = SuperKahraman(\"Clark Kent\",30,\"Gazeteci\")"
   ]
  },
  {
   "cell_type": "code",
   "execution_count": 29,
   "id": "205969f5-cfc4-45c2-bd53-18aff56db068",
   "metadata": {},
   "outputs": [
    {
     "data": {
      "text/plain": [
       "'Clark Kent'"
      ]
     },
     "execution_count": 29,
     "metadata": {},
     "output_type": "execute_result"
    }
   ],
   "source": [
    "superman.isim"
   ]
  },
  {
   "cell_type": "code",
   "execution_count": 30,
   "id": "ba404db2-8739-4930-bb37-d93dd6524a09",
   "metadata": {},
   "outputs": [
    {
     "data": {
      "text/plain": [
       "30"
      ]
     },
     "execution_count": 30,
     "metadata": {},
     "output_type": "execute_result"
    }
   ],
   "source": [
    "superman.yas"
   ]
  },
  {
   "cell_type": "code",
   "execution_count": 31,
   "id": "be12881f-6b44-4698-b66b-9f9f3820f800",
   "metadata": {},
   "outputs": [
    {
     "data": {
      "text/plain": [
       "'Gazeteci'"
      ]
     },
     "execution_count": 31,
     "metadata": {},
     "output_type": "execute_result"
    }
   ],
   "source": [
    "superman.meslek"
   ]
  },
  {
   "cell_type": "code",
   "execution_count": 32,
   "id": "0a046f59-f606-42be-ab17-2f54b7d54641",
   "metadata": {},
   "outputs": [
    {
     "data": {
      "text/plain": [
       "'Görünmezlik'"
      ]
     },
     "execution_count": 32,
     "metadata": {},
     "output_type": "execute_result"
    }
   ],
   "source": [
    "superman.ozelGuc"
   ]
  },
  {
   "cell_type": "code",
   "execution_count": 33,
   "id": "b1d0a499-b805-4667-989a-fdd61310c4c5",
   "metadata": {},
   "outputs": [],
   "source": [
    "superman.ozelGuc = \"Uçmak\""
   ]
  },
  {
   "cell_type": "code",
   "execution_count": 34,
   "id": "d3e9dc88-1ac0-4a64-be61-5dfc628d9d52",
   "metadata": {},
   "outputs": [
    {
     "data": {
      "text/plain": [
       "'Uçmak'"
      ]
     },
     "execution_count": 34,
     "metadata": {},
     "output_type": "execute_result"
    }
   ],
   "source": [
    "superman.ozelGuc"
   ]
  },
  {
   "cell_type": "code",
   "execution_count": 35,
   "id": "9163f8ad-c2dd-4e03-bdb9-579344f79794",
   "metadata": {},
   "outputs": [
    {
     "name": "stdout",
     "output_type": "stream",
     "text": [
      "Ben süper kahramanım ve mesleğim: Gazeteci\n"
     ]
    }
   ],
   "source": [
    "superman.ornekMethod()"
   ]
  },
  {
   "cell_type": "code",
   "execution_count": 36,
   "id": "739f0b0b-c284-4c0b-a5b6-5646e786f20a",
   "metadata": {},
   "outputs": [],
   "source": [
    "## self ==> bir sınıfın (class) içindeki kendini (yani o nesneyi) temsil eden bir anahtar kelimedir."
   ]
  },
  {
   "cell_type": "code",
   "execution_count": null,
   "id": "3aeac97b-33fe-4c05-9dd4-6ce3b06c2e93",
   "metadata": {},
   "outputs": [],
   "source": []
  }
 ],
 "metadata": {
  "kernelspec": {
   "display_name": "Python [conda env:base] *",
   "language": "python",
   "name": "conda-base-py"
  },
  "language_info": {
   "codemirror_mode": {
    "name": "ipython",
    "version": 3
   },
   "file_extension": ".py",
   "mimetype": "text/x-python",
   "name": "python",
   "nbconvert_exporter": "python",
   "pygments_lexer": "ipython3",
   "version": "3.13.5"
  }
 },
 "nbformat": 4,
 "nbformat_minor": 5
}
